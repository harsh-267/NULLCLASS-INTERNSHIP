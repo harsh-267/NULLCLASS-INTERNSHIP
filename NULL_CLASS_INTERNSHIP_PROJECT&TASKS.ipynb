{
 "cells": [
  {
   "cell_type": "code",
   "execution_count": 80,
   "id": "c03baf01-d0f2-43a8-bef1-c51b106246ed",
   "metadata": {},
   "outputs": [
    {
     "data": {
      "text/html": [
       "<div>\n",
       "<style scoped>\n",
       "    .dataframe tbody tr th:only-of-type {\n",
       "        vertical-align: middle;\n",
       "    }\n",
       "\n",
       "    .dataframe tbody tr th {\n",
       "        vertical-align: top;\n",
       "    }\n",
       "\n",
       "    .dataframe thead th {\n",
       "        text-align: right;\n",
       "    }\n",
       "</style>\n",
       "<table border=\"1\" class=\"dataframe\">\n",
       "  <thead>\n",
       "    <tr style=\"text-align: right;\">\n",
       "      <th></th>\n",
       "      <th>age</th>\n",
       "      <th>sex</th>\n",
       "      <th>cp</th>\n",
       "      <th>trestbps</th>\n",
       "      <th>chol</th>\n",
       "      <th>fbs</th>\n",
       "      <th>restecg</th>\n",
       "      <th>thalach</th>\n",
       "      <th>exang</th>\n",
       "      <th>oldpeak</th>\n",
       "      <th>slope</th>\n",
       "      <th>ca</th>\n",
       "      <th>thal</th>\n",
       "      <th>target</th>\n",
       "    </tr>\n",
       "  </thead>\n",
       "  <tbody>\n",
       "    <tr>\n",
       "      <th>0</th>\n",
       "      <td>63</td>\n",
       "      <td>1</td>\n",
       "      <td>3</td>\n",
       "      <td>145</td>\n",
       "      <td>233</td>\n",
       "      <td>1</td>\n",
       "      <td>0</td>\n",
       "      <td>150</td>\n",
       "      <td>0</td>\n",
       "      <td>2.3</td>\n",
       "      <td>0</td>\n",
       "      <td>0</td>\n",
       "      <td>1</td>\n",
       "      <td>1</td>\n",
       "    </tr>\n",
       "    <tr>\n",
       "      <th>1</th>\n",
       "      <td>37</td>\n",
       "      <td>1</td>\n",
       "      <td>2</td>\n",
       "      <td>130</td>\n",
       "      <td>250</td>\n",
       "      <td>0</td>\n",
       "      <td>1</td>\n",
       "      <td>187</td>\n",
       "      <td>0</td>\n",
       "      <td>3.5</td>\n",
       "      <td>0</td>\n",
       "      <td>0</td>\n",
       "      <td>2</td>\n",
       "      <td>1</td>\n",
       "    </tr>\n",
       "    <tr>\n",
       "      <th>2</th>\n",
       "      <td>41</td>\n",
       "      <td>0</td>\n",
       "      <td>1</td>\n",
       "      <td>130</td>\n",
       "      <td>204</td>\n",
       "      <td>0</td>\n",
       "      <td>0</td>\n",
       "      <td>172</td>\n",
       "      <td>0</td>\n",
       "      <td>1.4</td>\n",
       "      <td>2</td>\n",
       "      <td>0</td>\n",
       "      <td>2</td>\n",
       "      <td>1</td>\n",
       "    </tr>\n",
       "    <tr>\n",
       "      <th>3</th>\n",
       "      <td>56</td>\n",
       "      <td>1</td>\n",
       "      <td>1</td>\n",
       "      <td>120</td>\n",
       "      <td>236</td>\n",
       "      <td>0</td>\n",
       "      <td>1</td>\n",
       "      <td>178</td>\n",
       "      <td>0</td>\n",
       "      <td>0.8</td>\n",
       "      <td>2</td>\n",
       "      <td>0</td>\n",
       "      <td>2</td>\n",
       "      <td>1</td>\n",
       "    </tr>\n",
       "    <tr>\n",
       "      <th>4</th>\n",
       "      <td>57</td>\n",
       "      <td>0</td>\n",
       "      <td>0</td>\n",
       "      <td>120</td>\n",
       "      <td>354</td>\n",
       "      <td>0</td>\n",
       "      <td>1</td>\n",
       "      <td>163</td>\n",
       "      <td>1</td>\n",
       "      <td>0.6</td>\n",
       "      <td>2</td>\n",
       "      <td>0</td>\n",
       "      <td>2</td>\n",
       "      <td>1</td>\n",
       "    </tr>\n",
       "    <tr>\n",
       "      <th>...</th>\n",
       "      <td>...</td>\n",
       "      <td>...</td>\n",
       "      <td>...</td>\n",
       "      <td>...</td>\n",
       "      <td>...</td>\n",
       "      <td>...</td>\n",
       "      <td>...</td>\n",
       "      <td>...</td>\n",
       "      <td>...</td>\n",
       "      <td>...</td>\n",
       "      <td>...</td>\n",
       "      <td>...</td>\n",
       "      <td>...</td>\n",
       "      <td>...</td>\n",
       "    </tr>\n",
       "    <tr>\n",
       "      <th>298</th>\n",
       "      <td>57</td>\n",
       "      <td>0</td>\n",
       "      <td>0</td>\n",
       "      <td>140</td>\n",
       "      <td>241</td>\n",
       "      <td>0</td>\n",
       "      <td>1</td>\n",
       "      <td>123</td>\n",
       "      <td>1</td>\n",
       "      <td>0.2</td>\n",
       "      <td>1</td>\n",
       "      <td>0</td>\n",
       "      <td>3</td>\n",
       "      <td>0</td>\n",
       "    </tr>\n",
       "    <tr>\n",
       "      <th>299</th>\n",
       "      <td>45</td>\n",
       "      <td>1</td>\n",
       "      <td>3</td>\n",
       "      <td>110</td>\n",
       "      <td>264</td>\n",
       "      <td>0</td>\n",
       "      <td>1</td>\n",
       "      <td>132</td>\n",
       "      <td>0</td>\n",
       "      <td>1.2</td>\n",
       "      <td>1</td>\n",
       "      <td>0</td>\n",
       "      <td>3</td>\n",
       "      <td>0</td>\n",
       "    </tr>\n",
       "    <tr>\n",
       "      <th>300</th>\n",
       "      <td>68</td>\n",
       "      <td>1</td>\n",
       "      <td>0</td>\n",
       "      <td>144</td>\n",
       "      <td>193</td>\n",
       "      <td>1</td>\n",
       "      <td>1</td>\n",
       "      <td>141</td>\n",
       "      <td>0</td>\n",
       "      <td>3.4</td>\n",
       "      <td>1</td>\n",
       "      <td>2</td>\n",
       "      <td>3</td>\n",
       "      <td>0</td>\n",
       "    </tr>\n",
       "    <tr>\n",
       "      <th>301</th>\n",
       "      <td>57</td>\n",
       "      <td>1</td>\n",
       "      <td>0</td>\n",
       "      <td>130</td>\n",
       "      <td>131</td>\n",
       "      <td>0</td>\n",
       "      <td>1</td>\n",
       "      <td>115</td>\n",
       "      <td>1</td>\n",
       "      <td>1.2</td>\n",
       "      <td>1</td>\n",
       "      <td>1</td>\n",
       "      <td>3</td>\n",
       "      <td>0</td>\n",
       "    </tr>\n",
       "    <tr>\n",
       "      <th>302</th>\n",
       "      <td>57</td>\n",
       "      <td>0</td>\n",
       "      <td>1</td>\n",
       "      <td>130</td>\n",
       "      <td>236</td>\n",
       "      <td>0</td>\n",
       "      <td>0</td>\n",
       "      <td>174</td>\n",
       "      <td>0</td>\n",
       "      <td>0.0</td>\n",
       "      <td>1</td>\n",
       "      <td>1</td>\n",
       "      <td>2</td>\n",
       "      <td>0</td>\n",
       "    </tr>\n",
       "  </tbody>\n",
       "</table>\n",
       "<p>303 rows × 14 columns</p>\n",
       "</div>"
      ],
      "text/plain": [
       "     age  sex  cp  trestbps  chol  fbs  restecg  thalach  exang  oldpeak  \\\n",
       "0     63    1   3       145   233    1        0      150      0      2.3   \n",
       "1     37    1   2       130   250    0        1      187      0      3.5   \n",
       "2     41    0   1       130   204    0        0      172      0      1.4   \n",
       "3     56    1   1       120   236    0        1      178      0      0.8   \n",
       "4     57    0   0       120   354    0        1      163      1      0.6   \n",
       "..   ...  ...  ..       ...   ...  ...      ...      ...    ...      ...   \n",
       "298   57    0   0       140   241    0        1      123      1      0.2   \n",
       "299   45    1   3       110   264    0        1      132      0      1.2   \n",
       "300   68    1   0       144   193    1        1      141      0      3.4   \n",
       "301   57    1   0       130   131    0        1      115      1      1.2   \n",
       "302   57    0   1       130   236    0        0      174      0      0.0   \n",
       "\n",
       "     slope  ca  thal  target  \n",
       "0        0   0     1       1  \n",
       "1        0   0     2       1  \n",
       "2        2   0     2       1  \n",
       "3        2   0     2       1  \n",
       "4        2   0     2       1  \n",
       "..     ...  ..   ...     ...  \n",
       "298      1   0     3       0  \n",
       "299      1   0     3       0  \n",
       "300      1   2     3       0  \n",
       "301      1   1     3       0  \n",
       "302      1   1     2       0  \n",
       "\n",
       "[303 rows x 14 columns]"
      ]
     },
     "execution_count": 80,
     "metadata": {},
     "output_type": "execute_result"
    }
   ],
   "source": [
    "import tkinter as tk\n",
    "from tkinter import ttk\n",
    "from tkinter import messagebox\n",
    "import pandas as pd\n",
    "import numpy as np\n",
    "import matplotlib.pyplot as plt\n",
    "import seaborn as sns\n",
    "import plotly.express as px\n",
    "import plotly.io as pio \n",
    "import webbrowser\n",
    "from matplotlib.backends.backend_tkagg import FigureCanvasTkAgg\n",
    "from sklearn.model_selection import train_test_split\n",
    "from sklearn.ensemble import RandomForestRegressor\n",
    "from sklearn.metrics import mean_squared_error, r2_score\n",
    "from nltk.sentiment.vader import SentimentIntensityAnalyzer\n",
    "import nltk\n",
    "import os\n",
    "\n",
    "from datetime import datetime\n",
    "import pytz\n",
    "#Load the dataset\n",
    "data= pd.read_csv('heart-disease.csv')\n",
    "data"
   ]
  },
  {
   "cell_type": "code",
   "execution_count": 22,
   "id": "7361ec32-4ca9-46e7-ad91-bd5d36b05cb7",
   "metadata": {},
   "outputs": [
    {
     "data": {
      "text/html": [
       "<div>\n",
       "<style scoped>\n",
       "    .dataframe tbody tr th:only-of-type {\n",
       "        vertical-align: middle;\n",
       "    }\n",
       "\n",
       "    .dataframe tbody tr th {\n",
       "        vertical-align: top;\n",
       "    }\n",
       "\n",
       "    .dataframe thead th {\n",
       "        text-align: right;\n",
       "    }\n",
       "</style>\n",
       "<table border=\"1\" class=\"dataframe\">\n",
       "  <thead>\n",
       "    <tr style=\"text-align: right;\">\n",
       "      <th></th>\n",
       "      <th>age</th>\n",
       "      <th>sex</th>\n",
       "      <th>cp</th>\n",
       "      <th>trestbps</th>\n",
       "      <th>chol</th>\n",
       "      <th>fbs</th>\n",
       "      <th>restecg</th>\n",
       "      <th>thalach</th>\n",
       "      <th>exang</th>\n",
       "      <th>oldpeak</th>\n",
       "      <th>slope</th>\n",
       "      <th>ca</th>\n",
       "      <th>thal</th>\n",
       "      <th>target</th>\n",
       "    </tr>\n",
       "  </thead>\n",
       "  <tbody>\n",
       "    <tr>\n",
       "      <th>0</th>\n",
       "      <td>63</td>\n",
       "      <td>1</td>\n",
       "      <td>3</td>\n",
       "      <td>145</td>\n",
       "      <td>233</td>\n",
       "      <td>1</td>\n",
       "      <td>0</td>\n",
       "      <td>150</td>\n",
       "      <td>0</td>\n",
       "      <td>2.3</td>\n",
       "      <td>0</td>\n",
       "      <td>0</td>\n",
       "      <td>1</td>\n",
       "      <td>1</td>\n",
       "    </tr>\n",
       "    <tr>\n",
       "      <th>1</th>\n",
       "      <td>37</td>\n",
       "      <td>1</td>\n",
       "      <td>2</td>\n",
       "      <td>130</td>\n",
       "      <td>250</td>\n",
       "      <td>0</td>\n",
       "      <td>1</td>\n",
       "      <td>187</td>\n",
       "      <td>0</td>\n",
       "      <td>3.5</td>\n",
       "      <td>0</td>\n",
       "      <td>0</td>\n",
       "      <td>2</td>\n",
       "      <td>1</td>\n",
       "    </tr>\n",
       "    <tr>\n",
       "      <th>2</th>\n",
       "      <td>41</td>\n",
       "      <td>0</td>\n",
       "      <td>1</td>\n",
       "      <td>130</td>\n",
       "      <td>204</td>\n",
       "      <td>0</td>\n",
       "      <td>0</td>\n",
       "      <td>172</td>\n",
       "      <td>0</td>\n",
       "      <td>1.4</td>\n",
       "      <td>2</td>\n",
       "      <td>0</td>\n",
       "      <td>2</td>\n",
       "      <td>1</td>\n",
       "    </tr>\n",
       "    <tr>\n",
       "      <th>3</th>\n",
       "      <td>56</td>\n",
       "      <td>1</td>\n",
       "      <td>1</td>\n",
       "      <td>120</td>\n",
       "      <td>236</td>\n",
       "      <td>0</td>\n",
       "      <td>1</td>\n",
       "      <td>178</td>\n",
       "      <td>0</td>\n",
       "      <td>0.8</td>\n",
       "      <td>2</td>\n",
       "      <td>0</td>\n",
       "      <td>2</td>\n",
       "      <td>1</td>\n",
       "    </tr>\n",
       "    <tr>\n",
       "      <th>4</th>\n",
       "      <td>57</td>\n",
       "      <td>0</td>\n",
       "      <td>0</td>\n",
       "      <td>120</td>\n",
       "      <td>354</td>\n",
       "      <td>0</td>\n",
       "      <td>1</td>\n",
       "      <td>163</td>\n",
       "      <td>1</td>\n",
       "      <td>0.6</td>\n",
       "      <td>2</td>\n",
       "      <td>0</td>\n",
       "      <td>2</td>\n",
       "      <td>1</td>\n",
       "    </tr>\n",
       "  </tbody>\n",
       "</table>\n",
       "</div>"
      ],
      "text/plain": [
       "   age  sex  cp  trestbps  chol  fbs  restecg  thalach  exang  oldpeak  slope  \\\n",
       "0   63    1   3       145   233    1        0      150      0      2.3      0   \n",
       "1   37    1   2       130   250    0        1      187      0      3.5      0   \n",
       "2   41    0   1       130   204    0        0      172      0      1.4      2   \n",
       "3   56    1   1       120   236    0        1      178      0      0.8      2   \n",
       "4   57    0   0       120   354    0        1      163      1      0.6      2   \n",
       "\n",
       "   ca  thal  target  \n",
       "0   0     1       1  \n",
       "1   0     2       1  \n",
       "2   0     2       1  \n",
       "3   0     2       1  \n",
       "4   0     2       1  "
      ]
     },
     "execution_count": 22,
     "metadata": {},
     "output_type": "execute_result"
    }
   ],
   "source": [
    "data.head()"
   ]
  },
  {
   "cell_type": "code",
   "execution_count": 23,
   "id": "e033b09c-79e6-42c6-bd32-3dadb97edf0f",
   "metadata": {},
   "outputs": [
    {
     "data": {
      "text/html": [
       "<div>\n",
       "<style scoped>\n",
       "    .dataframe tbody tr th:only-of-type {\n",
       "        vertical-align: middle;\n",
       "    }\n",
       "\n",
       "    .dataframe tbody tr th {\n",
       "        vertical-align: top;\n",
       "    }\n",
       "\n",
       "    .dataframe thead th {\n",
       "        text-align: right;\n",
       "    }\n",
       "</style>\n",
       "<table border=\"1\" class=\"dataframe\">\n",
       "  <thead>\n",
       "    <tr style=\"text-align: right;\">\n",
       "      <th></th>\n",
       "      <th>age</th>\n",
       "      <th>sex</th>\n",
       "      <th>cp</th>\n",
       "      <th>trestbps</th>\n",
       "      <th>chol</th>\n",
       "      <th>fbs</th>\n",
       "      <th>restecg</th>\n",
       "      <th>thalach</th>\n",
       "      <th>exang</th>\n",
       "      <th>oldpeak</th>\n",
       "      <th>slope</th>\n",
       "      <th>ca</th>\n",
       "      <th>thal</th>\n",
       "      <th>target</th>\n",
       "    </tr>\n",
       "  </thead>\n",
       "  <tbody>\n",
       "    <tr>\n",
       "      <th>298</th>\n",
       "      <td>57</td>\n",
       "      <td>0</td>\n",
       "      <td>0</td>\n",
       "      <td>140</td>\n",
       "      <td>241</td>\n",
       "      <td>0</td>\n",
       "      <td>1</td>\n",
       "      <td>123</td>\n",
       "      <td>1</td>\n",
       "      <td>0.2</td>\n",
       "      <td>1</td>\n",
       "      <td>0</td>\n",
       "      <td>3</td>\n",
       "      <td>0</td>\n",
       "    </tr>\n",
       "    <tr>\n",
       "      <th>299</th>\n",
       "      <td>45</td>\n",
       "      <td>1</td>\n",
       "      <td>3</td>\n",
       "      <td>110</td>\n",
       "      <td>264</td>\n",
       "      <td>0</td>\n",
       "      <td>1</td>\n",
       "      <td>132</td>\n",
       "      <td>0</td>\n",
       "      <td>1.2</td>\n",
       "      <td>1</td>\n",
       "      <td>0</td>\n",
       "      <td>3</td>\n",
       "      <td>0</td>\n",
       "    </tr>\n",
       "    <tr>\n",
       "      <th>300</th>\n",
       "      <td>68</td>\n",
       "      <td>1</td>\n",
       "      <td>0</td>\n",
       "      <td>144</td>\n",
       "      <td>193</td>\n",
       "      <td>1</td>\n",
       "      <td>1</td>\n",
       "      <td>141</td>\n",
       "      <td>0</td>\n",
       "      <td>3.4</td>\n",
       "      <td>1</td>\n",
       "      <td>2</td>\n",
       "      <td>3</td>\n",
       "      <td>0</td>\n",
       "    </tr>\n",
       "    <tr>\n",
       "      <th>301</th>\n",
       "      <td>57</td>\n",
       "      <td>1</td>\n",
       "      <td>0</td>\n",
       "      <td>130</td>\n",
       "      <td>131</td>\n",
       "      <td>0</td>\n",
       "      <td>1</td>\n",
       "      <td>115</td>\n",
       "      <td>1</td>\n",
       "      <td>1.2</td>\n",
       "      <td>1</td>\n",
       "      <td>1</td>\n",
       "      <td>3</td>\n",
       "      <td>0</td>\n",
       "    </tr>\n",
       "    <tr>\n",
       "      <th>302</th>\n",
       "      <td>57</td>\n",
       "      <td>0</td>\n",
       "      <td>1</td>\n",
       "      <td>130</td>\n",
       "      <td>236</td>\n",
       "      <td>0</td>\n",
       "      <td>0</td>\n",
       "      <td>174</td>\n",
       "      <td>0</td>\n",
       "      <td>0.0</td>\n",
       "      <td>1</td>\n",
       "      <td>1</td>\n",
       "      <td>2</td>\n",
       "      <td>0</td>\n",
       "    </tr>\n",
       "  </tbody>\n",
       "</table>\n",
       "</div>"
      ],
      "text/plain": [
       "     age  sex  cp  trestbps  chol  fbs  restecg  thalach  exang  oldpeak  \\\n",
       "298   57    0   0       140   241    0        1      123      1      0.2   \n",
       "299   45    1   3       110   264    0        1      132      0      1.2   \n",
       "300   68    1   0       144   193    1        1      141      0      3.4   \n",
       "301   57    1   0       130   131    0        1      115      1      1.2   \n",
       "302   57    0   1       130   236    0        0      174      0      0.0   \n",
       "\n",
       "     slope  ca  thal  target  \n",
       "298      1   0     3       0  \n",
       "299      1   0     3       0  \n",
       "300      1   2     3       0  \n",
       "301      1   1     3       0  \n",
       "302      1   1     2       0  "
      ]
     },
     "execution_count": 23,
     "metadata": {},
     "output_type": "execute_result"
    }
   ],
   "source": [
    "data.tail()"
   ]
  },
  {
   "cell_type": "code",
   "execution_count": 24,
   "id": "8a3d2fc6-9864-475b-8f45-6d1a57e20032",
   "metadata": {},
   "outputs": [
    {
     "data": {
      "text/html": [
       "<div>\n",
       "<style scoped>\n",
       "    .dataframe tbody tr th:only-of-type {\n",
       "        vertical-align: middle;\n",
       "    }\n",
       "\n",
       "    .dataframe tbody tr th {\n",
       "        vertical-align: top;\n",
       "    }\n",
       "\n",
       "    .dataframe thead th {\n",
       "        text-align: right;\n",
       "    }\n",
       "</style>\n",
       "<table border=\"1\" class=\"dataframe\">\n",
       "  <thead>\n",
       "    <tr style=\"text-align: right;\">\n",
       "      <th></th>\n",
       "      <th>age</th>\n",
       "      <th>sex</th>\n",
       "      <th>cp</th>\n",
       "      <th>trestbps</th>\n",
       "      <th>chol</th>\n",
       "      <th>fbs</th>\n",
       "      <th>restecg</th>\n",
       "      <th>thalach</th>\n",
       "      <th>exang</th>\n",
       "      <th>oldpeak</th>\n",
       "      <th>slope</th>\n",
       "      <th>ca</th>\n",
       "      <th>thal</th>\n",
       "      <th>target</th>\n",
       "    </tr>\n",
       "  </thead>\n",
       "  <tbody>\n",
       "    <tr>\n",
       "      <th>count</th>\n",
       "      <td>303.000000</td>\n",
       "      <td>303.000000</td>\n",
       "      <td>303.000000</td>\n",
       "      <td>303.000000</td>\n",
       "      <td>303.000000</td>\n",
       "      <td>303.000000</td>\n",
       "      <td>303.000000</td>\n",
       "      <td>303.000000</td>\n",
       "      <td>303.000000</td>\n",
       "      <td>303.000000</td>\n",
       "      <td>303.000000</td>\n",
       "      <td>303.000000</td>\n",
       "      <td>303.000000</td>\n",
       "      <td>303.000000</td>\n",
       "    </tr>\n",
       "    <tr>\n",
       "      <th>mean</th>\n",
       "      <td>54.366337</td>\n",
       "      <td>0.683168</td>\n",
       "      <td>0.966997</td>\n",
       "      <td>131.623762</td>\n",
       "      <td>246.264026</td>\n",
       "      <td>0.148515</td>\n",
       "      <td>0.528053</td>\n",
       "      <td>149.646865</td>\n",
       "      <td>0.326733</td>\n",
       "      <td>1.039604</td>\n",
       "      <td>1.399340</td>\n",
       "      <td>0.729373</td>\n",
       "      <td>2.313531</td>\n",
       "      <td>0.544554</td>\n",
       "    </tr>\n",
       "    <tr>\n",
       "      <th>std</th>\n",
       "      <td>9.082101</td>\n",
       "      <td>0.466011</td>\n",
       "      <td>1.032052</td>\n",
       "      <td>17.538143</td>\n",
       "      <td>51.830751</td>\n",
       "      <td>0.356198</td>\n",
       "      <td>0.525860</td>\n",
       "      <td>22.905161</td>\n",
       "      <td>0.469794</td>\n",
       "      <td>1.161075</td>\n",
       "      <td>0.616226</td>\n",
       "      <td>1.022606</td>\n",
       "      <td>0.612277</td>\n",
       "      <td>0.498835</td>\n",
       "    </tr>\n",
       "    <tr>\n",
       "      <th>min</th>\n",
       "      <td>29.000000</td>\n",
       "      <td>0.000000</td>\n",
       "      <td>0.000000</td>\n",
       "      <td>94.000000</td>\n",
       "      <td>126.000000</td>\n",
       "      <td>0.000000</td>\n",
       "      <td>0.000000</td>\n",
       "      <td>71.000000</td>\n",
       "      <td>0.000000</td>\n",
       "      <td>0.000000</td>\n",
       "      <td>0.000000</td>\n",
       "      <td>0.000000</td>\n",
       "      <td>0.000000</td>\n",
       "      <td>0.000000</td>\n",
       "    </tr>\n",
       "    <tr>\n",
       "      <th>25%</th>\n",
       "      <td>47.500000</td>\n",
       "      <td>0.000000</td>\n",
       "      <td>0.000000</td>\n",
       "      <td>120.000000</td>\n",
       "      <td>211.000000</td>\n",
       "      <td>0.000000</td>\n",
       "      <td>0.000000</td>\n",
       "      <td>133.500000</td>\n",
       "      <td>0.000000</td>\n",
       "      <td>0.000000</td>\n",
       "      <td>1.000000</td>\n",
       "      <td>0.000000</td>\n",
       "      <td>2.000000</td>\n",
       "      <td>0.000000</td>\n",
       "    </tr>\n",
       "    <tr>\n",
       "      <th>50%</th>\n",
       "      <td>55.000000</td>\n",
       "      <td>1.000000</td>\n",
       "      <td>1.000000</td>\n",
       "      <td>130.000000</td>\n",
       "      <td>240.000000</td>\n",
       "      <td>0.000000</td>\n",
       "      <td>1.000000</td>\n",
       "      <td>153.000000</td>\n",
       "      <td>0.000000</td>\n",
       "      <td>0.800000</td>\n",
       "      <td>1.000000</td>\n",
       "      <td>0.000000</td>\n",
       "      <td>2.000000</td>\n",
       "      <td>1.000000</td>\n",
       "    </tr>\n",
       "    <tr>\n",
       "      <th>75%</th>\n",
       "      <td>61.000000</td>\n",
       "      <td>1.000000</td>\n",
       "      <td>2.000000</td>\n",
       "      <td>140.000000</td>\n",
       "      <td>274.500000</td>\n",
       "      <td>0.000000</td>\n",
       "      <td>1.000000</td>\n",
       "      <td>166.000000</td>\n",
       "      <td>1.000000</td>\n",
       "      <td>1.600000</td>\n",
       "      <td>2.000000</td>\n",
       "      <td>1.000000</td>\n",
       "      <td>3.000000</td>\n",
       "      <td>1.000000</td>\n",
       "    </tr>\n",
       "    <tr>\n",
       "      <th>max</th>\n",
       "      <td>77.000000</td>\n",
       "      <td>1.000000</td>\n",
       "      <td>3.000000</td>\n",
       "      <td>200.000000</td>\n",
       "      <td>564.000000</td>\n",
       "      <td>1.000000</td>\n",
       "      <td>2.000000</td>\n",
       "      <td>202.000000</td>\n",
       "      <td>1.000000</td>\n",
       "      <td>6.200000</td>\n",
       "      <td>2.000000</td>\n",
       "      <td>4.000000</td>\n",
       "      <td>3.000000</td>\n",
       "      <td>1.000000</td>\n",
       "    </tr>\n",
       "  </tbody>\n",
       "</table>\n",
       "</div>"
      ],
      "text/plain": [
       "              age         sex          cp    trestbps        chol         fbs  \\\n",
       "count  303.000000  303.000000  303.000000  303.000000  303.000000  303.000000   \n",
       "mean    54.366337    0.683168    0.966997  131.623762  246.264026    0.148515   \n",
       "std      9.082101    0.466011    1.032052   17.538143   51.830751    0.356198   \n",
       "min     29.000000    0.000000    0.000000   94.000000  126.000000    0.000000   \n",
       "25%     47.500000    0.000000    0.000000  120.000000  211.000000    0.000000   \n",
       "50%     55.000000    1.000000    1.000000  130.000000  240.000000    0.000000   \n",
       "75%     61.000000    1.000000    2.000000  140.000000  274.500000    0.000000   \n",
       "max     77.000000    1.000000    3.000000  200.000000  564.000000    1.000000   \n",
       "\n",
       "          restecg     thalach       exang     oldpeak       slope          ca  \\\n",
       "count  303.000000  303.000000  303.000000  303.000000  303.000000  303.000000   \n",
       "mean     0.528053  149.646865    0.326733    1.039604    1.399340    0.729373   \n",
       "std      0.525860   22.905161    0.469794    1.161075    0.616226    1.022606   \n",
       "min      0.000000   71.000000    0.000000    0.000000    0.000000    0.000000   \n",
       "25%      0.000000  133.500000    0.000000    0.000000    1.000000    0.000000   \n",
       "50%      1.000000  153.000000    0.000000    0.800000    1.000000    0.000000   \n",
       "75%      1.000000  166.000000    1.000000    1.600000    2.000000    1.000000   \n",
       "max      2.000000  202.000000    1.000000    6.200000    2.000000    4.000000   \n",
       "\n",
       "             thal      target  \n",
       "count  303.000000  303.000000  \n",
       "mean     2.313531    0.544554  \n",
       "std      0.612277    0.498835  \n",
       "min      0.000000    0.000000  \n",
       "25%      2.000000    0.000000  \n",
       "50%      2.000000    1.000000  \n",
       "75%      3.000000    1.000000  \n",
       "max      3.000000    1.000000  "
      ]
     },
     "execution_count": 24,
     "metadata": {},
     "output_type": "execute_result"
    }
   ],
   "source": [
    "data.describe()"
   ]
  },
  {
   "cell_type": "code",
   "execution_count": 25,
   "id": "89ab1875-9812-4604-8e93-215a1b36de1f",
   "metadata": {},
   "outputs": [
    {
     "name": "stdout",
     "output_type": "stream",
     "text": [
      "<class 'pandas.core.frame.DataFrame'>\n",
      "RangeIndex: 303 entries, 0 to 302\n",
      "Data columns (total 14 columns):\n",
      " #   Column    Non-Null Count  Dtype  \n",
      "---  ------    --------------  -----  \n",
      " 0   age       303 non-null    int64  \n",
      " 1   sex       303 non-null    int64  \n",
      " 2   cp        303 non-null    int64  \n",
      " 3   trestbps  303 non-null    int64  \n",
      " 4   chol      303 non-null    int64  \n",
      " 5   fbs       303 non-null    int64  \n",
      " 6   restecg   303 non-null    int64  \n",
      " 7   thalach   303 non-null    int64  \n",
      " 8   exang     303 non-null    int64  \n",
      " 9   oldpeak   303 non-null    float64\n",
      " 10  slope     303 non-null    int64  \n",
      " 11  ca        303 non-null    int64  \n",
      " 12  thal      303 non-null    int64  \n",
      " 13  target    303 non-null    int64  \n",
      "dtypes: float64(1), int64(13)\n",
      "memory usage: 33.3 KB\n"
     ]
    }
   ],
   "source": [
    "data.info()"
   ]
  },
  {
   "cell_type": "code",
   "execution_count": 26,
   "id": "8f3466f5-a049-445e-9071-636f47cfdd43",
   "metadata": {},
   "outputs": [
    {
     "name": "stdout",
     "output_type": "stream",
     "text": [
      "region        0\n",
      "category      0\n",
      "parameter     0\n",
      "mode          0\n",
      "powertrain    0\n",
      "year          0\n",
      "unit          0\n",
      "value         0\n",
      "dtype: int64\n"
     ]
    }
   ],
   "source": [
    "df=pd.read_csv('Global EV Data 2024.csv')\n",
    "print(df.isnull().sum())"
   ]
  },
  {
   "cell_type": "code",
   "execution_count": 27,
   "id": "ea51adc0-6d74-4d1d-9f61-461a2e7e0f80",
   "metadata": {},
   "outputs": [
    {
     "name": "stdout",
     "output_type": "stream",
     "text": [
      "<class 'pandas.core.frame.DataFrame'>\n",
      "RangeIndex: 12654 entries, 0 to 12653\n",
      "Data columns (total 8 columns):\n",
      " #   Column      Non-Null Count  Dtype  \n",
      "---  ------      --------------  -----  \n",
      " 0   region      12654 non-null  object \n",
      " 1   category    12654 non-null  object \n",
      " 2   parameter   12654 non-null  object \n",
      " 3   mode        12654 non-null  object \n",
      " 4   powertrain  12654 non-null  object \n",
      " 5   year        12654 non-null  int64  \n",
      " 6   unit        12654 non-null  object \n",
      " 7   value       12654 non-null  float64\n",
      "dtypes: float64(1), int64(1), object(6)\n",
      "memory usage: 791.0+ KB\n"
     ]
    }
   ],
   "source": [
    "df.info()"
   ]
  },
  {
   "cell_type": "code",
   "execution_count": 28,
   "id": "c50532b5-9fb9-43f3-bf48-2adf51a15fd8",
   "metadata": {},
   "outputs": [],
   "source": [
    "data['chol']=data['chol'].replace(np.nan,data['chol'].mean())"
   ]
  },
  {
   "cell_type": "code",
   "execution_count": 29,
   "id": "d92d4b61-9d4d-4836-a632-e3523a35d1df",
   "metadata": {},
   "outputs": [
    {
     "data": {
      "image/png": "[encoded data removed]",
      "text/plain": [
       "<Figure size 640x480 with 1 Axes>"
      ]
     },
     "metadata": {},
     "output_type": "display_data"
    }
   ],
   "source": [
    "import matplotlib.pyplot as plt\n",
    "import seaborn as sns\n",
    "import plotly.express as px\n",
    "\n",
    "\n",
    "xpoints=np.array([1,2,6,8])\n",
    "ypoints=np.array([3,8,1,10])\n",
    "\n",
    "plt.plot(xpoints,ypoints)\n",
    "plt.show()\n"
   ]
  },
  {
   "cell_type": "code",
   "execution_count": 30,
   "id": "d1213103-6c2d-40d8-9893-1e834355cdb7",
   "metadata": {},
   "outputs": [
    {
     "data": {
      "image/png": "[encoded data removed]",
      "text/plain": [
       "<Figure size 640x480 with 1 Axes>"
      ]
     },
     "metadata": {},
     "output_type": "display_data"
    }
   ],
   "source": [
    "y=np.array([35,25,25,15])\n",
    "\n",
    "plt.pie(y)\n",
    "plt.show()\n"
   ]
  },
  {
   "cell_type": "code",
   "execution_count": 31,
   "id": "87c7e534-5584-4baa-97a4-9266a86dfbfc",
   "metadata": {},
   "outputs": [
    {
     "name": "stdout",
     "output_type": "stream",
     "text": [
      "[172.8207163  161.07153064 156.97701359 165.15919384 187.73389963\n",
      " 161.06558076 152.73582256 141.60240653 189.22569475 165.10460963\n",
      " 183.74386782 165.97355837 177.06041621 168.90408759 173.16401146\n",
      " 170.32000212 162.6589384  168.96149012 167.18060766 157.58623387\n",
      " 154.91555163 161.19554125 160.61934905 166.68405374 168.85804927\n",
      " 152.68433159 164.30249889 155.55835233 178.6843088  175.82487653\n",
      " 153.1713663  173.70633329 174.57016897 174.91584525 165.8639867\n",
      " 172.18419629 175.38962571 177.19555893 157.74108329 190.18774274\n",
      " 176.80586374 171.51666563 192.71293103 183.1934309  170.01871248\n",
      " 174.18114949 166.43007482 187.67391059 155.2625945  164.40288604\n",
      " 146.60323301 177.96183125 152.78237173 177.667913   159.01338854\n",
      " 145.62364374 169.15616706 186.23488725 164.87126031 191.63487861\n",
      " 158.60030781 180.69148162 173.32210475 151.22676124 175.75113902\n",
      " 179.99808971 175.17933849 158.1467799  170.21956253 169.07528638\n",
      " 158.6747023  168.0817051  173.75063546 176.86284962 184.8336536\n",
      " 164.40055843 188.12387141 174.72440204 162.64295214 177.59896354\n",
      " 174.20294176 180.2267616  168.40666245 179.83322103 171.37907805\n",
      " 169.73322637 164.63135157 188.05212173 164.61557695 179.84023222\n",
      " 160.10345864 173.6018917  171.7873471  182.84877502 174.79731482\n",
      " 173.17243547 152.05715126 185.31448128 177.28061025 161.94681546\n",
      " 163.93964076 171.18638465 178.14976481 186.34237337 177.07489829\n",
      " 163.01543501 160.88225238 168.59029287 170.21801134 176.61619857\n",
      " 171.93443997 159.80989061 182.9210341  159.59680001 174.81258909\n",
      " 155.27732322 160.37869489 177.77960441 155.41591384 180.90974118\n",
      " 173.49315425 174.44242359 162.1511481  174.67518038 178.74208861\n",
      " 159.18476547 162.37725839 163.47099637 162.63444461 159.58746872\n",
      " 180.09794134 168.91583272 154.90213265 165.73611497 177.07910273\n",
      " 167.56451143 179.25028785 172.4737182  177.89314245 152.59365724\n",
      " 176.00400373 159.59678997 185.06641019 165.38552645 170.64432461\n",
      " 167.02205222 171.66826977 145.4529349  178.40801629 168.05799179\n",
      " 164.61581894 172.42003398 170.39078308 169.86949483 164.72864273\n",
      " 168.03278008 168.89857263 169.06836267 162.65580555 178.731138\n",
      " 178.48494985 165.94076697 167.61771221 182.66102836 157.6412325\n",
      " 158.9023914  164.32597854 165.34126969 164.61144558 158.91724891\n",
      " 172.14561654 191.58211325 182.82091237 160.99078962 140.75277139\n",
      " 156.23485654 168.6493104  159.8471891  161.11859004 167.5327368\n",
      " 171.86079893 179.38446944 142.59094287 169.32899872 161.9183705\n",
      " 161.34036134 178.48874429 175.12404683 160.35388585 170.29972254\n",
      " 160.83087621 193.64060572 170.36326767 166.85912834 173.76998732\n",
      " 177.66525267 164.66136653 186.14012422 176.33616173 169.41749926\n",
      " 163.72899445 161.09727112 168.91136425 162.08665487 172.23355272\n",
      " 163.14785176 165.74946122 172.32162063 182.07553314 180.49272913\n",
      " 186.69706342 151.10503492 174.23164681 161.76397872 184.35332216\n",
      " 166.76017287 160.87214261 172.04776675 172.34513018 169.26585097\n",
      " 174.86743475 141.27901135 176.09824726 163.30128865 163.40350775\n",
      " 190.90165453 145.94617745 159.84605361 168.3743994  167.90132997\n",
      " 186.90432819 153.3966894  162.83011267 160.03890217 174.9660045\n",
      " 159.19939588 167.93866914 172.8235429  166.70352375 167.8047233\n",
      " 175.09529299 178.03219737 195.3072227  167.88488384 170.98503693\n",
      " 181.87988476 171.95760845 179.49704655 160.2256345  171.43829983]\n"
     ]
    }
   ],
   "source": [
    "x = np.random.normal(170,10,250)\n",
    "print(x)\n"
   ]
  },
  {
   "cell_type": "code",
   "execution_count": 32,
   "id": "d28b094a-0183-4945-8019-56e92d9ef882",
   "metadata": {},
   "outputs": [
    {
     "data": {
      "image/png": "[encoded data removed]",
      "text/plain": [
       "<Figure size 640x480 with 1 Axes>"
      ]
     },
     "metadata": {},
     "output_type": "display_data"
    }
   ],
   "source": [
    "plt.hist(x)\n",
    "plt.show()"
   ]
  },
  {
   "cell_type": "code",
   "execution_count": 33,
   "id": "a51700d6-a7e0-4449-832b-5b3f03a9276e",
   "metadata": {},
   "outputs": [
    {
     "name": "stderr",
     "output_type": "stream",
     "text": [
      "C:\\Users\\phars\\AppData\\Local\\Temp\\ipykernel_8092\\230963844.py:1: UserWarning:\n",
      "\n",
      "\n",
      "\n",
      "`distplot` is a deprecated function and will be removed in seaborn v0.14.0.\n",
      "\n",
      "Please adapt your code to use either `displot` (a figure-level function with\n",
      "similar flexibility) or `histplot` (an axes-level function for histograms).\n",
      "\n",
      "For a guide to updating your code to use the new functions, please see\n",
      "https://gist.github.com/mwaskom/de44147ed2974457ad6372750bbe5751\n",
      "\n",
      "\n",
      "C:\\Users\\phars\\OneDrive\\Documents\\anaconda_files\\Lib\\site-packages\\seaborn\\_oldcore.py:1119: FutureWarning:\n",
      "\n",
      "use_inf_as_na option is deprecated and will be removed in a future version. Convert inf values to NaN before operating instead.\n",
      "\n"
     ]
    },
    {
     "data": {
      "image/png": "[encoded data removed]",
      "text/plain": [
       "<Figure size 640x480 with 1 Axes>"
      ]
     },
     "metadata": {},
     "output_type": "display_data"
    }
   ],
   "source": [
    "sns.distplot([0,1,2,3,4,5])\n",
    "plt.show()"
   ]
  },
  {
   "cell_type": "code",
   "execution_count": 34,
   "id": "b98ab7df-d3fe-4efd-ae52-50b2c3ed1e3f",
   "metadata": {},
   "outputs": [
    {
     "name": "stderr",
     "output_type": "stream",
     "text": [
      "[nltk_data] Downloading package vader_lexicon to\n",
      "[nltk_data]     C:\\Users\\phars\\AppData\\Roaming\\nltk_data...\n",
      "[nltk_data]   Package vader_lexicon is already up-to-date!\n"
     ]
    },
    {
     "data": {
      "application/vnd.plotly.v1+json": {
       "config": {
        "plotlyServerURL": "https://plot.ly"
       },
       "data": [
        {
         "alignmentgroup": "True",
         "hovertemplate": "x=%{x}<br>y=%{y}<extra></extra>",
         "legendgroup": "",
         "marker": {
          "color": "#636efa",
          "pattern": {
           "shape": ""
          }
         },
         "name": "",
         "offsetgroup": "",
         "orientation": "v",
         "showlegend": false,
         "textposition": "auto",
         "type": "bar",
         "x": [
          "A",
          "B",
          "C"
         ],
         "xaxis": "x",
         "y": [
          1,
          3,
          2
         ],
         "yaxis": "y"
        }
       ],
       "layout": {
        "autosize": true,
        "barmode": "relative",
        "legend": {
         "tracegroupgap": 0
        },
        "template": {
         "data": {
          "bar": [
           {
            "error_x": {
             "color": "#2a3f5f"
            },
            "error_y": {
             "color": "#2a3f5f"
            },
            "marker": {
             "line": {
              "color": "#E5ECF6",
              "width": 0.5
             },
             "pattern": {
              "fillmode": "overlay",
              "size": 10,
              "solidity": 0.2
             }
            },
            "type": "bar"
           }
          ],
          "barpolar": [
           {
            "marker": {
             "line": {
              "color": "#E5ECF6",
              "width": 0.5
             },
             "pattern": {
              "fillmode": "overlay",
              "size": 10,
              "solidity": 0.2
             }
            },
            "type": "barpolar"
           }
          ],
          "carpet": [
           {
            "aaxis": {
             "endlinecolor": "#2a3f5f",
             "gridcolor": "white",
             "linecolor": "white",
             "minorgridcolor": "white",
             "startlinecolor": "#2a3f5f"
            },
            "baxis": {
             "endlinecolor": "#2a3f5f",
             "gridcolor": "white",
             "linecolor": "white",
             "minorgridcolor": "white",
             "startlinecolor": "#2a3f5f"
            },
            "type": "carpet"
           }
          ],
          "choropleth": [
           {
            "colorbar": {
             "outlinewidth": 0,
             "ticks": ""
            },
            "type": "choropleth"
           }
          ],
          "contour": [
           {
            "colorbar": {
             "outlinewidth": 0,
             "ticks": ""
            },
            "colorscale": [
             [
              0,
              "#0d0887"
             ],
             [
              0.1111111111111111,
              "#46039f"
             ],
             [
              0.2222222222222222,
              "#7201a8"
             ],
             [
              0.3333333333333333,
              "#9c179e"
             ],
             [
              0.4444444444444444,
              "#bd3786"
             ],
             [
              0.5555555555555556,
              "#d8576b"
             ],
             [
              0.6666666666666666,
              "#ed7953"
             ],
             [
              0.7777777777777778,
              "#fb9f3a"
             ],
             [
              0.8888888888888888,
              "#fdca26"
             ],
             [
              1,
              "#f0f921"
             ]
            ],
            "type": "contour"
           }
          ],
          "contourcarpet": [
           {
            "colorbar": {
             "outlinewidth": 0,
             "ticks": ""
            },
            "type": "contourcarpet"
           }
          ],
          "heatmap": [
           {
            "colorbar": {
             "outlinewidth": 0,
             "ticks": ""
            },
            "colorscale": [
             [
              0,
              "#0d0887"
             ],
             [
              0.1111111111111111,
              "#46039f"
             ],
             [
              0.2222222222222222,
              "#7201a8"
             ],
             [
              0.3333333333333333,
              "#9c179e"
             ],
             [
              0.4444444444444444,
              "#bd3786"
             ],
             [
              0.5555555555555556,
              "#d8576b"
             ],
             [
              0.6666666666666666,
              "#ed7953"
             ],
             [
              0.7777777777777778,
              "#fb9f3a"
             ],
             [
              0.8888888888888888,
              "#fdca26"
             ],
             [
              1,
              "#f0f921"
             ]
            ],
            "type": "heatmap"
           }
          ],
          "heatmapgl": [
           {
            "colorbar": {
             "outlinewidth": 0,
             "ticks": ""
            },
            "colorscale": [
             [
              0,
              "#0d0887"
             ],
             [
              0.1111111111111111,
              "#46039f"
             ],
             [
              0.2222222222222222,
              "#7201a8"
             ],
             [
              0.3333333333333333,
              "#9c179e"
             ],
             [
              0.4444444444444444,
              "#bd3786"
             ],
             [
              0.5555555555555556,
              "#d8576b"
             ],
             [
              0.6666666666666666,
              "#ed7953"
             ],
             [
              0.7777777777777778,
              "#fb9f3a"
             ],
             [
              0.8888888888888888,
              "#fdca26"
             ],
             [
              1,
              "#f0f921"
             ]
            ],
            "type": "heatmapgl"
           }
          ],
          "histogram": [
           {
            "marker": {
             "pattern": {
              "fillmode": "overlay",
              "size": 10,
              "solidity": 0.2
             }
            },
            "type": "histogram"
           }
          ],
          "histogram2d": [
           {
            "colorbar": {
             "outlinewidth": 0,
             "ticks": ""
            },
            "colorscale": [
             [
              0,
              "#0d0887"
             ],
             [
              0.1111111111111111,
              "#46039f"
             ],
             [
              0.2222222222222222,
              "#7201a8"
             ],
             [
              0.3333333333333333,
              "#9c179e"
             ],
             [
              0.4444444444444444,
              "#bd3786"
             ],
             [
              0.5555555555555556,
              "#d8576b"
             ],
             [
              0.6666666666666666,
              "#ed7953"
             ],
             [
              0.7777777777777778,
              "#fb9f3a"
             ],
             [
              0.8888888888888888,
              "#fdca26"
             ],
             [
              1,
              "#f0f921"
             ]
            ],
            "type": "histogram2d"
           }
          ],
          "histogram2dcontour": [
           {
            "colorbar": {
             "outlinewidth": 0,
             "ticks": ""
            },
            "colorscale": [
             [
              0,
              "#0d0887"
             ],
             [
              0.1111111111111111,
              "#46039f"
             ],
             [
              0.2222222222222222,
              "#7201a8"
             ],
             [
              0.3333333333333333,
              "#9c179e"
             ],
             [
              0.4444444444444444,
              "#bd3786"
             ],
             [
              0.5555555555555556,
              "#d8576b"
             ],
             [
              0.6666666666666666,
              "#ed7953"
             ],
             [
              0.7777777777777778,
              "#fb9f3a"
             ],
             [
              0.8888888888888888,
              "#fdca26"
             ],
             [
              1,
              "#f0f921"
             ]
            ],
            "type": "histogram2dcontour"
           }
          ],
          "mesh3d": [
           {
            "colorbar": {
             "outlinewidth": 0,
             "ticks": ""
            },
            "type": "mesh3d"
           }
          ],
          "parcoords": [
           {
            "line": {
             "colorbar": {
              "outlinewidth": 0,
              "ticks": ""
             }
            },
            "type": "parcoords"
           }
          ],
          "pie": [
           {
            "automargin": true,
            "type": "pie"
           }
          ],
          "scatter": [
           {
            "fillpattern": {
             "fillmode": "overlay",
             "size": 10,
             "solidity": 0.2
            },
            "type": "scatter"
           }
          ],
          "scatter3d": [
           {
            "line": {
             "colorbar": {
              "outlinewidth": 0,
              "ticks": ""
             }
            },
            "marker": {
             "colorbar": {
              "outlinewidth": 0,
              "ticks": ""
             }
            },
            "type": "scatter3d"
           }
          ],
          "scattercarpet": [
           {
            "marker": {
             "colorbar": {
              "outlinewidth": 0,
              "ticks": ""
             }
            },
            "type": "scattercarpet"
           }
          ],
          "scattergeo": [
           {
            "marker": {
             "colorbar": {
              "outlinewidth": 0,
              "ticks": ""
             }
            },
            "type": "scattergeo"
           }
          ],
          "scattergl": [
           {
            "marker": {
             "colorbar": {
              "outlinewidth": 0,
              "ticks": ""
             }
            },
            "type": "scattergl"
           }
          ],
          "scattermapbox": [
           {
            "marker": {
             "colorbar": {
              "outlinewidth": 0,
              "ticks": ""
             }
            },
            "type": "scattermapbox"
           }
          ],
          "scatterpolar": [
           {
            "marker": {
             "colorbar": {
              "outlinewidth": 0,
              "ticks": ""
             }
            },
            "type": "scatterpolar"
           }
          ],
          "scatterpolargl": [
           {
            "marker": {
             "colorbar": {
              "outlinewidth": 0,
              "ticks": ""
             }
            },
            "type": "scatterpolargl"
           }
          ],
          "scatterternary": [
           {
            "marker": {
             "colorbar": {
              "outlinewidth": 0,
              "ticks": ""
             }
            },
            "type": "scatterternary"
           }
          ],
          "surface": [
           {
            "colorbar": {
             "outlinewidth": 0,
             "ticks": ""
            },
            "colorscale": [
             [
              0,
              "#0d0887"
             ],
             [
              0.1111111111111111,
              "#46039f"
             ],
             [
              0.2222222222222222,
              "#7201a8"
             ],
             [
              0.3333333333333333,
              "#9c179e"
             ],
             [
              0.4444444444444444,
              "#bd3786"
             ],
             [
              0.5555555555555556,
              "#d8576b"
             ],
             [
              0.6666666666666666,
              "#ed7953"
             ],
             [
              0.7777777777777778,
              "#fb9f3a"
             ],
             [
              0.8888888888888888,
              "#fdca26"
             ],
             [
              1,
              "#f0f921"
             ]
            ],
            "type": "surface"
           }
          ],
          "table": [
           {
            "cells": {
             "fill": {
              "color": "#EBF0F8"
             },
             "line": {
              "color": "white"
             }
            },
            "header": {
             "fill": {
              "color": "#C8D4E3"
             },
             "line": {
              "color": "white"
             }
            },
            "type": "table"
           }
          ]
         },
         "layout": {
          "annotationdefaults": {
           "arrowcolor": "#2a3f5f",
           "arrowhead": 0,
           "arrowwidth": 1
          },
          "autotypenumbers": "strict",
          "coloraxis": {
           "colorbar": {
            "outlinewidth": 0,
            "ticks": ""
           }
          },
          "colorscale": {
           "diverging": [
            [
             0,
             "#8e0152"
            ],
            [
             0.1,
             "#c51b7d"
            ],
            [
             0.2,
             "#de77ae"
            ],
            [
             0.3,
             "#f1b6da"
            ],
            [
             0.4,
             "#fde0ef"
            ],
            [
             0.5,
             "#f7f7f7"
            ],
            [
             0.6,
             "#e6f5d0"
            ],
            [
             0.7,
             "#b8e186"
            ],
            [
             0.8,
             "#7fbc41"
            ],
            [
             0.9,
             "#4d9221"
            ],
            [
             1,
             "#276419"
            ]
           ],
           "sequential": [
            [
             0,
             "#0d0887"
            ],
            [
             0.1111111111111111,
             "#46039f"
            ],
            [
             0.2222222222222222,
             "#7201a8"
            ],
            [
             0.3333333333333333,
             "#9c179e"
            ],
            [
             0.4444444444444444,
             "#bd3786"
            ],
            [
             0.5555555555555556,
             "#d8576b"
            ],
            [
             0.6666666666666666,
             "#ed7953"
            ],
            [
             0.7777777777777778,
             "#fb9f3a"
            ],
            [
             0.8888888888888888,
             "#fdca26"
            ],
            [
             1,
             "#f0f921"
            ]
           ],
           "sequentialminus": [
            [
             0,
             "#0d0887"
            ],
            [
             0.1111111111111111,
             "#46039f"
            ],
            [
             0.2222222222222222,
             "#7201a8"
            ],
            [
             0.3333333333333333,
             "#9c179e"
            ],
            [
             0.4444444444444444,
             "#bd3786"
            ],
            [
             0.5555555555555556,
             "#d8576b"
            ],
            [
             0.6666666666666666,
             "#ed7953"
            ],
            [
             0.7777777777777778,
             "#fb9f3a"
            ],
            [
             0.8888888888888888,
             "#fdca26"
            ],
            [
             1,
             "#f0f921"
            ]
           ]
          },
          "colorway": [
           "#636efa",
           "#EF553B",
           "#00cc96",
           "#ab63fa",
           "#FFA15A",
           "#19d3f3",
           "#FF6692",
           "#B6E880",
           "#FF97FF",
           "#FECB52"
          ],
          "font": {
           "color": "#2a3f5f"
          },
          "geo": {
           "bgcolor": "white",
           "lakecolor": "white",
           "landcolor": "#E5ECF6",
           "showlakes": true,
           "showland": true,
           "subunitcolor": "white"
          },
          "hoverlabel": {
           "align": "left"
          },
          "hovermode": "closest",
          "mapbox": {
           "style": "light"
          },
          "paper_bgcolor": "white",
          "plot_bgcolor": "#E5ECF6",
          "polar": {
           "angularaxis": {
            "gridcolor": "white",
            "linecolor": "white",
            "ticks": ""
           },
           "bgcolor": "#E5ECF6",
           "radialaxis": {
            "gridcolor": "white",
            "linecolor": "white",
            "ticks": ""
           }
          },
          "scene": {
           "xaxis": {
            "backgroundcolor": "#E5ECF6",
            "gridcolor": "white",
            "gridwidth": 2,
            "linecolor": "white",
            "showbackground": true,
            "ticks": "",
            "zerolinecolor": "white"
           },
           "yaxis": {
            "backgroundcolor": "#E5ECF6",
            "gridcolor": "white",
            "gridwidth": 2,
            "linecolor": "white",
            "showbackground": true,
            "ticks": "",
            "zerolinecolor": "white"
           },
           "zaxis": {
            "backgroundcolor": "#E5ECF6",
            "gridcolor": "white",
            "gridwidth": 2,
            "linecolor": "white",
            "showbackground": true,
            "ticks": "",
            "zerolinecolor": "white"
           }
          },
          "shapedefaults": {
           "line": {
            "color": "#2a3f5f"
           }
          },
          "ternary": {
           "aaxis": {
            "gridcolor": "white",
            "linecolor": "white",
            "ticks": ""
           },
           "baxis": {
            "gridcolor": "white",
            "linecolor": "white",
            "ticks": ""
           },
           "bgcolor": "#E5ECF6",
           "caxis": {
            "gridcolor": "white",
            "linecolor": "white",
            "ticks": ""
           }
          },
          "title": {
           "x": 0.05
          },
          "xaxis": {
           "automargin": true,
           "gridcolor": "white",
           "linecolor": "white",
           "ticks": "",
           "title": {
            "standoff": 15
           },
           "zerolinecolor": "white",
           "zerolinewidth": 2
          },
          "yaxis": {
           "automargin": true,
           "gridcolor": "white",
           "linecolor": "white",
           "ticks": "",
           "title": {
            "standoff": 15
           },
           "zerolinecolor": "white",
           "zerolinewidth": 2
          }
         }
        },
        "title": {
         "text": "Sample Bar Chart"
        },
        "xaxis": {
         "anchor": "y",
         "autorange": true,
         "domain": [
          0,
          1
         ],
         "range": [
          -0.5,
          2.5
         ],
         "title": {
          "text": "x"
         },
         "type": "category"
        },
        "yaxis": {
         "anchor": "x",
         "autorange": true,
         "domain": [
          0,
          1
         ],
         "range": [
          0,
          3.1578947368421053
         ],
         "title": {
          "text": "y"
         },
         "type": "linear"
        }
       }
      },
      "image/png": "[encoded data removed]",
      "text/html": [
       "<div>                            <div id=\"702113b1-f869-4f44-91bd-e5ffcf228480\" class=\"plotly-graph-div\" style=\"height:525px; width:100%;\"></div>            <script type=\"text/javascript\">                require([\"plotly\"], function(Plotly) {                    window.PLOTLYENV=window.PLOTLYENV || {};                                    if (document.getElementById(\"702113b1-f869-4f44-91bd-e5ffcf228480\")) {                    Plotly.newPlot(                        \"702113b1-f869-4f44-91bd-e5ffcf228480\",                        [{\"alignmentgroup\":\"True\",\"hovertemplate\":\"x=%{x}<br>y=%{y}<extra></extra>\",\"legendgroup\":\"\",\"marker\":{\"color\":\"#636efa\",\"pattern\":{\"shape\":\"\"}},\"name\":\"\",\"offsetgroup\":\"\",\"orientation\":\"v\",\"showlegend\":false,\"textposition\":\"auto\",\"x\":[\"A\",\"B\",\"C\"],\"xaxis\":\"x\",\"y\":[1,3,2],\"yaxis\":\"y\",\"type\":\"bar\"}],                        {\"template\":{\"data\":{\"histogram2dcontour\":[{\"type\":\"histogram2dcontour\",\"colorbar\":{\"outlinewidth\":0,\"ticks\":\"\"},\"colorscale\":[[0.0,\"#0d0887\"],[0.1111111111111111,\"#46039f\"],[0.2222222222222222,\"#7201a8\"],[0.3333333333333333,\"#9c179e\"],[0.4444444444444444,\"#bd3786\"],[0.5555555555555556,\"#d8576b\"],[0.6666666666666666,\"#ed7953\"],[0.7777777777777778,\"#fb9f3a\"],[0.8888888888888888,\"#fdca26\"],[1.0,\"#f0f921\"]]}],\"choropleth\":[{\"type\":\"choropleth\",\"colorbar\":{\"outlinewidth\":0,\"ticks\":\"\"}}],\"histogram2d\":[{\"type\":\"histogram2d\",\"colorbar\":{\"outlinewidth\":0,\"ticks\":\"\"},\"colorscale\":[[0.0,\"#0d0887\"],[0.1111111111111111,\"#46039f\"],[0.2222222222222222,\"#7201a8\"],[0.3333333333333333,\"#9c179e\"],[0.4444444444444444,\"#bd3786\"],[0.5555555555555556,\"#d8576b\"],[0.6666666666666666,\"#ed7953\"],[0.7777777777777778,\"#fb9f3a\"],[0.8888888888888888,\"#fdca26\"],[1.0,\"#f0f921\"]]}],\"heatmap\":[{\"type\":\"heatmap\",\"colorbar\":{\"outlinewidth\":0,\"ticks\":\"\"},\"colorscale\":[[0.0,\"#0d0887\"],[0.1111111111111111,\"#46039f\"],[0.2222222222222222,\"#7201a8\"],[0.3333333333333333,\"#9c179e\"],[0.4444444444444444,\"#bd3786\"],[0.5555555555555556,\"#d8576b\"],[0.6666666666666666,\"#ed7953\"],[0.7777777777777778,\"#fb9f3a\"],[0.8888888888888888,\"#fdca26\"],[1.0,\"#f0f921\"]]}],\"heatmapgl\":[{\"type\":\"heatmapgl\",\"colorbar\":{\"outlinewidth\":0,\"ticks\":\"\"},\"colorscale\":[[0.0,\"#0d0887\"],[0.1111111111111111,\"#46039f\"],[0.2222222222222222,\"#7201a8\"],[0.3333333333333333,\"#9c179e\"],[0.4444444444444444,\"#bd3786\"],[0.5555555555555556,\"#d8576b\"],[0.6666666666666666,\"#ed7953\"],[0.7777777777777778,\"#fb9f3a\"],[0.8888888888888888,\"#fdca26\"],[1.0,\"#f0f921\"]]}],\"contourcarpet\":[{\"type\":\"contourcarpet\",\"colorbar\":{\"outlinewidth\":0,\"ticks\":\"\"}}],\"contour\":[{\"type\":\"contour\",\"colorbar\":{\"outlinewidth\":0,\"ticks\":\"\"},\"colorscale\":[[0.0,\"#0d0887\"],[0.1111111111111111,\"#46039f\"],[0.2222222222222222,\"#7201a8\"],[0.3333333333333333,\"#9c179e\"],[0.4444444444444444,\"#bd3786\"],[0.5555555555555556,\"#d8576b\"],[0.6666666666666666,\"#ed7953\"],[0.7777777777777778,\"#fb9f3a\"],[0.8888888888888888,\"#fdca26\"],[1.0,\"#f0f921\"]]}],\"surface\":[{\"type\":\"surface\",\"colorbar\":{\"outlinewidth\":0,\"ticks\":\"\"},\"colorscale\":[[0.0,\"#0d0887\"],[0.1111111111111111,\"#46039f\"],[0.2222222222222222,\"#7201a8\"],[0.3333333333333333,\"#9c179e\"],[0.4444444444444444,\"#bd3786\"],[0.5555555555555556,\"#d8576b\"],[0.6666666666666666,\"#ed7953\"],[0.7777777777777778,\"#fb9f3a\"],[0.8888888888888888,\"#fdca26\"],[1.0,\"#f0f921\"]]}],\"mesh3d\":[{\"type\":\"mesh3d\",\"colorbar\":{\"outlinewidth\":0,\"ticks\":\"\"}}],\"scatter\":[{\"fillpattern\":{\"fillmode\":\"overlay\",\"size\":10,\"solidity\":0.2},\"type\":\"scatter\"}],\"parcoords\":[{\"type\":\"parcoords\",\"line\":{\"colorbar\":{\"outlinewidth\":0,\"ticks\":\"\"}}}],\"scatterpolargl\":[{\"type\":\"scatterpolargl\",\"marker\":{\"colorbar\":{\"outlinewidth\":0,\"ticks\":\"\"}}}],\"bar\":[{\"error_x\":{\"color\":\"#2a3f5f\"},\"error_y\":{\"color\":\"#2a3f5f\"},\"marker\":{\"line\":{\"color\":\"#E5ECF6\",\"width\":0.5},\"pattern\":{\"fillmode\":\"overlay\",\"size\":10,\"solidity\":0.2}},\"type\":\"bar\"}],\"scattergeo\":[{\"type\":\"scattergeo\",\"marker\":{\"colorbar\":{\"outlinewidth\":0,\"ticks\":\"\"}}}],\"scatterpolar\":[{\"type\":\"scatterpolar\",\"marker\":{\"colorbar\":{\"outlinewidth\":0,\"ticks\":\"\"}}}],\"histogram\":[{\"marker\":{\"pattern\":{\"fillmode\":\"overlay\",\"size\":10,\"solidity\":0.2}},\"type\":\"histogram\"}],\"scattergl\":[{\"type\":\"scattergl\",\"marker\":{\"colorbar\":{\"outlinewidth\":0,\"ticks\":\"\"}}}],\"scatter3d\":[{\"type\":\"scatter3d\",\"line\":{\"colorbar\":{\"outlinewidth\":0,\"ticks\":\"\"}},\"marker\":{\"colorbar\":{\"outlinewidth\":0,\"ticks\":\"\"}}}],\"scattermapbox\":[{\"type\":\"scattermapbox\",\"marker\":{\"colorbar\":{\"outlinewidth\":0,\"ticks\":\"\"}}}],\"scatterternary\":[{\"type\":\"scatterternary\",\"marker\":{\"colorbar\":{\"outlinewidth\":0,\"ticks\":\"\"}}}],\"scattercarpet\":[{\"type\":\"scattercarpet\",\"marker\":{\"colorbar\":{\"outlinewidth\":0,\"ticks\":\"\"}}}],\"carpet\":[{\"aaxis\":{\"endlinecolor\":\"#2a3f5f\",\"gridcolor\":\"white\",\"linecolor\":\"white\",\"minorgridcolor\":\"white\",\"startlinecolor\":\"#2a3f5f\"},\"baxis\":{\"endlinecolor\":\"#2a3f5f\",\"gridcolor\":\"white\",\"linecolor\":\"white\",\"minorgridcolor\":\"white\",\"startlinecolor\":\"#2a3f5f\"},\"type\":\"carpet\"}],\"table\":[{\"cells\":{\"fill\":{\"color\":\"#EBF0F8\"},\"line\":{\"color\":\"white\"}},\"header\":{\"fill\":{\"color\":\"#C8D4E3\"},\"line\":{\"color\":\"white\"}},\"type\":\"table\"}],\"barpolar\":[{\"marker\":{\"line\":{\"color\":\"#E5ECF6\",\"width\":0.5},\"pattern\":{\"fillmode\":\"overlay\",\"size\":10,\"solidity\":0.2}},\"type\":\"barpolar\"}],\"pie\":[{\"automargin\":true,\"type\":\"pie\"}]},\"layout\":{\"autotypenumbers\":\"strict\",\"colorway\":[\"#636efa\",\"#EF553B\",\"#00cc96\",\"#ab63fa\",\"#FFA15A\",\"#19d3f3\",\"#FF6692\",\"#B6E880\",\"#FF97FF\",\"#FECB52\"],\"font\":{\"color\":\"#2a3f5f\"},\"hovermode\":\"closest\",\"hoverlabel\":{\"align\":\"left\"},\"paper_bgcolor\":\"white\",\"plot_bgcolor\":\"#E5ECF6\",\"polar\":{\"bgcolor\":\"#E5ECF6\",\"angularaxis\":{\"gridcolor\":\"white\",\"linecolor\":\"white\",\"ticks\":\"\"},\"radialaxis\":{\"gridcolor\":\"white\",\"linecolor\":\"white\",\"ticks\":\"\"}},\"ternary\":{\"bgcolor\":\"#E5ECF6\",\"aaxis\":{\"gridcolor\":\"white\",\"linecolor\":\"white\",\"ticks\":\"\"},\"baxis\":{\"gridcolor\":\"white\",\"linecolor\":\"white\",\"ticks\":\"\"},\"caxis\":{\"gridcolor\":\"white\",\"linecolor\":\"white\",\"ticks\":\"\"}},\"coloraxis\":{\"colorbar\":{\"outlinewidth\":0,\"ticks\":\"\"}},\"colorscale\":{\"sequential\":[[0.0,\"#0d0887\"],[0.1111111111111111,\"#46039f\"],[0.2222222222222222,\"#7201a8\"],[0.3333333333333333,\"#9c179e\"],[0.4444444444444444,\"#bd3786\"],[0.5555555555555556,\"#d8576b\"],[0.6666666666666666,\"#ed7953\"],[0.7777777777777778,\"#fb9f3a\"],[0.8888888888888888,\"#fdca26\"],[1.0,\"#f0f921\"]],\"sequentialminus\":[[0.0,\"#0d0887\"],[0.1111111111111111,\"#46039f\"],[0.2222222222222222,\"#7201a8\"],[0.3333333333333333,\"#9c179e\"],[0.4444444444444444,\"#bd3786\"],[0.5555555555555556,\"#d8576b\"],[0.6666666666666666,\"#ed7953\"],[0.7777777777777778,\"#fb9f3a\"],[0.8888888888888888,\"#fdca26\"],[1.0,\"#f0f921\"]],\"diverging\":[[0,\"#8e0152\"],[0.1,\"#c51b7d\"],[0.2,\"#de77ae\"],[0.3,\"#f1b6da\"],[0.4,\"#fde0ef\"],[0.5,\"#f7f7f7\"],[0.6,\"#e6f5d0\"],[0.7,\"#b8e186\"],[0.8,\"#7fbc41\"],[0.9,\"#4d9221\"],[1,\"#276419\"]]},\"xaxis\":{\"gridcolor\":\"white\",\"linecolor\":\"white\",\"ticks\":\"\",\"title\":{\"standoff\":15},\"zerolinecolor\":\"white\",\"automargin\":true,\"zerolinewidth\":2},\"yaxis\":{\"gridcolor\":\"white\",\"linecolor\":\"white\",\"ticks\":\"\",\"title\":{\"standoff\":15},\"zerolinecolor\":\"white\",\"automargin\":true,\"zerolinewidth\":2},\"scene\":{\"xaxis\":{\"backgroundcolor\":\"#E5ECF6\",\"gridcolor\":\"white\",\"linecolor\":\"white\",\"showbackground\":true,\"ticks\":\"\",\"zerolinecolor\":\"white\",\"gridwidth\":2},\"yaxis\":{\"backgroundcolor\":\"#E5ECF6\",\"gridcolor\":\"white\",\"linecolor\":\"white\",\"showbackground\":true,\"ticks\":\"\",\"zerolinecolor\":\"white\",\"gridwidth\":2},\"zaxis\":{\"backgroundcolor\":\"#E5ECF6\",\"gridcolor\":\"white\",\"linecolor\":\"white\",\"showbackground\":true,\"ticks\":\"\",\"zerolinecolor\":\"white\",\"gridwidth\":2}},\"shapedefaults\":{\"line\":{\"color\":\"#2a3f5f\"}},\"annotationdefaults\":{\"arrowcolor\":\"#2a3f5f\",\"arrowhead\":0,\"arrowwidth\":1},\"geo\":{\"bgcolor\":\"white\",\"landcolor\":\"#E5ECF6\",\"subunitcolor\":\"white\",\"showland\":true,\"showlakes\":true,\"lakecolor\":\"white\"},\"title\":{\"x\":0.05},\"mapbox\":{\"style\":\"light\"}}},\"xaxis\":{\"anchor\":\"y\",\"domain\":[0.0,1.0],\"title\":{\"text\":\"x\"}},\"yaxis\":{\"anchor\":\"x\",\"domain\":[0.0,1.0],\"title\":{\"text\":\"y\"}},\"legend\":{\"tracegroupgap\":0},\"title\":{\"text\":\"Sample Bar Chart\"},\"barmode\":\"relative\"},                        {\"responsive\": true}                    ).then(function(){\n",
       "                            \n",
       "var gd = document.getElementById('702113b1-f869-4f44-91bd-e5ffcf228480');\n",
       "var x = new MutationObserver(function (mutations, observer) {{\n",
       "        var display = window.getComputedStyle(gd).display;\n",
       "        if (!display || display === 'none') {{\n",
       "            console.log([gd, 'removed!']);\n",
       "            Plotly.purge(gd);\n",
       "            observer.disconnect();\n",
       "        }}\n",
       "}});\n",
       "\n",
       "// Listen for the removal of the full notebook cells\n",
       "var notebookContainer = gd.closest('#notebook-container');\n",
       "if (notebookContainer) {{\n",
       "    x.observe(notebookContainer, {childList: true});\n",
       "}}\n",
       "\n",
       "// Listen for the clearing of the current output cell\n",
       "var outputEl = gd.closest('.output');\n",
       "if (outputEl) {{\n",
       "    x.observe(outputEl, {childList: true});\n",
       "}}\n",
       "\n",
       "                        })                };                });            </script>        </div>"
      ]
     },
     "metadata": {},
     "output_type": "display_data"
    }
   ],
   "source": [
    "from sklearn.model_selection import train_test_split\n",
    "from sklearn.ensemble import RandomForestRegressor\n",
    "from sklearn.metrics import mean_squared_error, r2_score\n",
    "import nltk\n",
    "import plotly.express as px\n",
    "\n",
    "# x_train,x_test,y_train,y_test=train_test_split(x,y,test_size=0.3,random_state=42)\n",
    "nltk.download('vader_lexicon')\n",
    "\n",
    "fig=px.bar(x=[\"A\",\"B\",\"C\"],y=[1,3,2],title=\"Sample Bar Chart\")\n",
    "fig.show()"
   ]
  },
  {
   "cell_type": "code",
   "execution_count": 35,
   "id": "5f8055c7-fbe1-476a-a57d-e600d78f310a",
   "metadata": {},
   "outputs": [],
   "source": [
    "fig.write_html(\"interactive_plot.html\")\n"
   ]
  },
  {
   "cell_type": "code",
   "execution_count": 36,
   "id": "a9dae113-e972-4110-8af6-d78c05ed812b",
   "metadata": {},
   "outputs": [
    {
     "name": "stderr",
     "output_type": "stream",
     "text": [
      "[nltk_data] Downloading package vader_lexicon to\n",
      "[nltk_data]     C:\\Users\\phars\\AppData\\Roaming\\nltk_data...\n",
      "[nltk_data]   Package vader_lexicon is already up-to-date!\n"
     ]
    },
    {
     "data": {
      "text/plain": [
       "True"
      ]
     },
     "execution_count": 36,
     "metadata": {},
     "output_type": "execute_result"
    }
   ],
   "source": [
    "nltk.download('vader_lexicon')"
   ]
  },
  {
   "cell_type": "code",
   "execution_count": 37,
   "id": "b5d7a277-c006-4a7c-803d-a98ba194713d",
   "metadata": {},
   "outputs": [],
   "source": [
    "# Step 1: Load the Dataset\n",
    "apps_df = pd.read_csv('Play Store Data.csv')\n",
    "reviews_df = pd.read_csv('User Reviews.csv')"
   ]
  },
  {
   "cell_type": "code",
   "execution_count": 38,
   "id": "22b39885-2efe-46e1-a5ab-de456d951f15",
   "metadata": {},
   "outputs": [],
   "source": [
    "# Step 2: Data Cleaning\n",
    "apps_df = apps_df.dropna(subset=['Rating'])\n",
    "for column in apps_df.columns:\n",
    "    apps_df[column].fillna(apps_df[column].mode()[0], inplace=True)\n",
    "apps_df.drop_duplicates(inplace=True)\n",
    "apps_df = apps_df[apps_df['Rating'] <= 5]\n",
    "reviews_df.dropna(subset=['Translated_Review'], inplace=True)"
   ]
  },
  {
   "cell_type": "code",
   "execution_count": 39,
   "id": "a26a30de-938b-4bde-a91f-94155cb69928",
   "metadata": {},
   "outputs": [],
   "source": [
    "# Merge datasets on 'App' and handle non-matching apps\n",
    "merged_df = pd.merge(apps_df, reviews_df, on='App', how='inner')"
   ]
  },
  {
   "cell_type": "code",
   "execution_count": 40,
   "id": "8ade7b91-6f4f-48a1-a065-e32d3986a4a4",
   "metadata": {},
   "outputs": [],
   "source": [
    "# Step 3: Data Transformation\n",
    "apps_df['Reviews'] = apps_df['Reviews'].astype(int)\n",
    "apps_df['Installs'] = apps_df['Installs'].str.replace(',', '').str.replace('+', '').astype(int)\n",
    "apps_df['Price'] = apps_df['Price'].str.replace('$', '').astype(float)"
   ]
  },
  {
   "cell_type": "code",
   "execution_count": 41,
   "id": "ea4c6fb9-f674-47a4-8bd1-d3c720dcd120",
   "metadata": {},
   "outputs": [],
   "source": [
    "def convert_size(size):\n",
    "    if 'M' in size:\n",
    "        return float(size.replace('M', ''))\n",
    "    elif 'k' in size:\n",
    "        return float(size.replace('k', '')) / 1024\n",
    "    else:\n",
    "        return np.nan"
   ]
  },
  {
   "cell_type": "code",
   "execution_count": 42,
   "id": "3eed3bc8-d62c-45b2-bb66-f95bd16843e8",
   "metadata": {},
   "outputs": [],
   "source": [
    "apps_df['Size'] = apps_df['Size'].apply(convert_size)"
   ]
  },
  {
   "cell_type": "code",
   "execution_count": 43,
   "id": "6879f8fd-291f-468e-9d60-8c1f9a3d5b21",
   "metadata": {},
   "outputs": [],
   "source": [
    "# Add log_installs and log_reviews columns\n",
    "apps_df['Log_Installs'] = np.log1p(apps_df['Installs'])\n",
    "apps_df['Log_Reviews'] = np.log1p(apps_df['Reviews'])"
   ]
  },
  {
   "cell_type": "code",
   "execution_count": 44,
   "id": "1b32706d-4c0f-462b-8885-7b6db21317ba",
   "metadata": {},
   "outputs": [],
   "source": [
    "# Add Rating Group column\n",
    "def rating_group(rating):\n",
    "    if rating >= 4:\n",
    "        return 'Top rated'\n",
    "    elif rating >= 3:\n",
    "        return 'Above average'\n",
    "    elif rating >= 2:\n",
    "        return 'Average'\n",
    "    else:\n",
    "        return 'Below average'\n",
    "\n",
    "apps_df['Rating_Group'] = apps_df['Rating'].apply(rating_group)"
   ]
  },
  {
   "cell_type": "code",
   "execution_count": 45,
   "id": "8956e28b-75e3-4f8f-b19b-ca667058cbcb",
   "metadata": {},
   "outputs": [],
   "source": [
    "# Add Revenue column\n",
    "apps_df['Revenue'] = apps_df['Price'] * apps_df['Installs']"
   ]
  },
  {
   "cell_type": "code",
   "execution_count": 46,
   "id": "a3c99b91-e929-4327-ad36-1c0b8b14370e",
   "metadata": {},
   "outputs": [],
   "source": [
    "# Sentiment Analysis\n",
    "sia = SentimentIntensityAnalyzer()\n",
    "reviews_df['Sentiment_Score'] = reviews_df['Translated_Review'].apply(lambda x: sia.polarity_scores(str(x))['compound'])"
   ]
  },
  {
   "cell_type": "code",
   "execution_count": 47,
   "id": "92959fc3-0398-4d4d-bf67-38486f1f4da7",
   "metadata": {},
   "outputs": [
    {
     "name": "stdout",
     "output_type": "stream",
     "text": [
      "{'neg': 0.0, 'neu': 0.42, 'pos': 0.58, 'compound': 0.8516}\n"
     ]
    }
   ],
   "source": [
    "review = \"This app is amazing! I love the new features.\"\n",
    "sentiment_score= sia.polarity_scores(review)\n",
    "print(sentiment_score)"
   ]
  },
  {
   "cell_type": "code",
   "execution_count": 48,
   "id": "12bc7997-98ee-4629-b194-a628b6eec8b6",
   "metadata": {},
   "outputs": [
    {
     "name": "stdout",
     "output_type": "stream",
     "text": [
      "{'neg': 0.535, 'neu': 0.465, 'pos': 0.0, 'compound': -0.8427}\n"
     ]
    }
   ],
   "source": [
    "review = \"This app is very bad! I hate the new features.\"\n",
    "sentiment_score= sia.polarity_scores(review)\n",
    "print(sentiment_score)"
   ]
  },
  {
   "cell_type": "code",
   "execution_count": 49,
   "id": "5046fd1d-e1c6-4076-9b98-ac0b0ee34fb5",
   "metadata": {},
   "outputs": [
    {
     "name": "stdout",
     "output_type": "stream",
     "text": [
      "{'neg': 0.0, 'neu': 0.612, 'pos': 0.388, 'compound': 0.2263}\n"
     ]
    }
   ],
   "source": [
    "review = \"This app is okay.\"\n",
    "sentiment_score= sia.polarity_scores(review)\n",
    "print(sentiment_score)"
   ]
  },
  {
   "cell_type": "code",
   "execution_count": 50,
   "id": "2c446e98-f1f7-4f7c-84bb-bcded3e7cced",
   "metadata": {},
   "outputs": [],
   "source": [
    "reviews_df['Sentiment_Score']=reviews_df['Translated_Review'].apply(lambda x: sia.polarity_scores(str(x))['compound'])"
   ]
  },
  {
   "cell_type": "code",
   "execution_count": 51,
   "id": "5c9099fc-6f84-414a-88fa-43963c1bb243",
   "metadata": {},
   "outputs": [],
   "source": [
    "# Extract year from 'Last Updated' and create 'Year' column\n",
    "apps_df['Last Updated'] = pd.to_datetime(apps_df['Last Updated'], errors='coerce')\n",
    "apps_df['Year'] = apps_df['Last Updated'].dt.year"
   ]
  },
  {
   "cell_type": "code",
   "execution_count": 52,
   "id": "2c4521d5-4694-4755-8678-5c09c7202021",
   "metadata": {},
   "outputs": [
    {
     "name": "stderr",
     "output_type": "stream",
     "text": [
      "C:\\Users\\phars\\OneDrive\\Documents\\anaconda_files\\Lib\\site-packages\\seaborn\\_oldcore.py:1119: FutureWarning:\n",
      "\n",
      "use_inf_as_na option is deprecated and will be removed in a future version. Convert inf values to NaN before operating instead.\n",
      "\n",
      "C:\\Users\\phars\\OneDrive\\Documents\\anaconda_files\\Lib\\site-packages\\seaborn\\_oldcore.py:1119: FutureWarning:\n",
      "\n",
      "use_inf_as_na option is deprecated and will be removed in a future version. Convert inf values to NaN before operating instead.\n",
      "\n",
      "C:\\Users\\phars\\OneDrive\\Documents\\anaconda_files\\Lib\\site-packages\\seaborn\\_oldcore.py:1119: FutureWarning:\n",
      "\n",
      "use_inf_as_na option is deprecated and will be removed in a future version. Convert inf values to NaN before operating instead.\n",
      "\n"
     ]
    },
    {
     "data": {
      "image/png": "[encoded data removed]",
      "text/plain": [
       "<Figure size 500x1200 with 1 Axes>"
      ]
     },
     "metadata": {},
     "output_type": "display_data"
    },
    {
     "data": {
      "image/png": "[encoded data removed]",
      "text/plain": [
       "<Figure size 300x1200 with 1 Axes>"
      ]
     },
     "metadata": {},
     "output_type": "display_data"
    },
    {
     "data": {
      "image/png": "[encoded data removed]",
      "text/plain": [
       "<Figure size 500x650 with 1 Axes>"
      ]
     },
     "metadata": {},
     "output_type": "display_data"
    },
    {
     "data": {
      "image/png": "[encoded data removed]",
      "text/plain": [
       "<Figure size 500x550 with 1 Axes>"
      ]
     },
     "metadata": {},
     "output_type": "display_data"
    },
    {
     "data": {
      "image/png": "[encoded data removed]",
      "text/plain": [
       "<Figure size 500x600 with 1 Axes>"
      ]
     },
     "metadata": {},
     "output_type": "display_data"
    },
    {
     "data": {
      "image/png": "[encoded data removed]",
      "text/plain": [
       "<Figure size 500x600 with 1 Axes>"
      ]
     },
     "metadata": {},
     "output_type": "display_data"
    },
    {
     "data": {
      "image/png": "[encoded data removed]",
      "text/plain": [
       "<Figure size 500x300 with 1 Axes>"
      ]
     },
     "metadata": {},
     "output_type": "display_data"
    },
    {
     "data": {
      "image/png": "[encoded data removed]",
      "text/plain": [
       "<Figure size 500x300 with 1 Axes>"
      ]
     },
     "metadata": {},
     "output_type": "display_data"
    },
    {
     "data": {
      "image/png": "[encoded data removed]",
      "text/plain": [
       "<Figure size 500x300 with 1 Axes>"
      ]
     },
     "metadata": {},
     "output_type": "display_data"
    },
    {
     "data": {
      "image/png": "[encoded data removed]",
      "text/plain": [
       "<Figure size 500x300 with 1 Axes>"
      ]
     },
     "metadata": {},
     "output_type": "display_data"
    },
    {
     "data": {
      "image/png": "[encoded data removed]",
      "text/plain": [
       "<Figure size 500x1200 with 1 Axes>"
      ]
     },
     "metadata": {},
     "output_type": "display_data"
    }
   ],
   "source": [
    "# Create Tkinter window\n",
    "class AppDashboard(tk.Tk):\n",
    "    def __init__(self):\n",
    "        super().__init__()\n",
    "        self.title(\"Google Play Store Analysis Dashboard\")\n",
    "        self.geometry(\"1200x800\")\n",
    "        self.configure(bg='lightgray')\n",
    "\n",
    "        # Create a main canvas and scrollbars\n",
    "        main_frame = tk.Frame(self)\n",
    "        main_frame.pack(fill=tk.BOTH, expand=True)\n",
    "\n",
    "        canvas = tk.Canvas(main_frame, bg='lightgray')\n",
    "        v_scrollbar = ttk.Scrollbar(main_frame, orient=\"vertical\", command=canvas.yview)\n",
    "        h_scrollbar = ttk.Scrollbar(main_frame, orient=\"horizontal\", command=canvas.xview)\n",
    "        \n",
    "        v_scrollbar.pack(side=\"right\", fill=\"y\")\n",
    "        h_scrollbar.pack(side=\"bottom\", fill=\"x\")\n",
    "        canvas.pack(side=\"left\", fill=\"both\", expand=True)\n",
    "        \n",
    "        scrollable_frame = ttk.Frame(canvas)\n",
    "        \n",
    "        scrollable_frame.bind(\n",
    "            \"<Configure>\",\n",
    "            lambda e: canvas.configure(\n",
    "                scrollregion=canvas.bbox(\"all\")\n",
    "            )\n",
    "        )\n",
    "\n",
    "        canvas.create_window((0, 0), window=scrollable_frame, anchor=\"nw\")\n",
    "        canvas.configure(yscrollcommand=v_scrollbar.set, xscrollcommand=h_scrollbar.set)\n",
    "\n",
    "        # Create a grid layout for the dashboard\n",
    "        for i in range(6):\n",
    "            scrollable_frame.columnconfigure(i, weight=1)\n",
    "\n",
    "        # Create and place frames for each visualization\n",
    "        self.create_category_analysis(scrollable_frame, 0, 0)\n",
    "        self.create_type_analysis(scrollable_frame, 0, 1)\n",
    "        self.create_rating_sentiment_analysis(scrollable_frame, 0, 2)\n",
    "        self.create_installation_update_analysis(scrollable_frame, 0, 3)\n",
    "        self.create_additional_insights(scrollable_frame, 0, 4)\n",
    "        self.create_ml_model_evaluation(scrollable_frame, 0, 5)\n",
    "\n",
    "    def create_category_analysis(self, parent, row, column):\n",
    "        frame = ttk.Frame(parent, padding=\"5\")\n",
    "        frame.grid(row=row, column=column, sticky=\"nsew\", pady=5)\n",
    "        frame.columnconfigure(0, weight=1)\n",
    "\n",
    "        category_counts = apps_df['Category'].value_counts().nlargest(10)\n",
    "        fig, ax = plt.subplots(figsize=(5, 3))\n",
    "        sns.barplot(x=category_counts.values, y=category_counts.index, palette='Spectral', ax=ax)\n",
    "        ax.set_title('Top Categories on Play Store')\n",
    "        ax.set_xlabel('Number of Apps')\n",
    "        ax.set_ylabel('Category')\n",
    "        fig.tight_layout()\n",
    "        canvas = FigureCanvasTkAgg(fig, master=frame)\n",
    "        canvas.draw()\n",
    "        canvas.get_tk_widget().pack(expand=True, fill=\"both\")\n",
    "\n",
    "    def create_type_analysis(self, parent, row, column):\n",
    "        frame = ttk.Frame(parent, padding=\"5\")\n",
    "        frame.grid(row=row, column=column, sticky=\"nsew\", pady=5)\n",
    "        frame.columnconfigure(0, weight=1)\n",
    "\n",
    "        type_counts = apps_df['Type'].value_counts()\n",
    "        fig, ax = plt.subplots(figsize=(3, 2))\n",
    "        ax.pie(type_counts, labels=type_counts.index, autopct='%1.1f%%', startangle=140, colors=['#ff9999', '#66b3ff'])\n",
    "        ax.set_title('Distribution of Free and Paid Apps')\n",
    "        fig.tight_layout()\n",
    "        canvas = FigureCanvasTkAgg(fig, master=frame)\n",
    "        canvas.draw()\n",
    "        canvas.get_tk_widget().pack(expand=True, fill=\"both\")\n",
    "\n",
    "    def create_rating_sentiment_analysis(self, parent, row, column):\n",
    "        frame = ttk.Frame(parent, padding=\"5\")\n",
    "        frame.grid(row=row, column=column, sticky=\"nsew\", pady=5)\n",
    "        frame.columnconfigure(0, weight=1)\n",
    "\n",
    "        fig, ax = plt.subplots(figsize=(5, 3))\n",
    "        sns.histplot(apps_df['Rating'], bins=30, kde=True, color='purple', ax=ax)\n",
    "        ax.set_title('Rating Distribution')\n",
    "        ax.set_xlabel('Rating')\n",
    "        ax.set_ylabel('Frequency')\n",
    "        fig.tight_layout()\n",
    "        canvas = FigureCanvasTkAgg(fig, master=frame)\n",
    "        canvas.draw()\n",
    "        canvas.get_tk_widget().pack(expand=True, fill=\"both\")\n",
    "\n",
    "        sentiment_counts = reviews_df['Sentiment_Score'].apply(lambda x: 'Positive' if x > 0 else ('Negative' if x < 0 else 'Neutral')).value_counts()\n",
    "        fig, ax = plt.subplots(figsize=(3, 2))\n",
    "        ax.pie(sentiment_counts, labels=sentiment_counts.index, autopct='%1.1f%%', startangle=140, colors=['#ffcc99', '#99ff99', '#66ffcc'])\n",
    "        ax.set_title('Sentiment Distribution')\n",
    "        fig.tight_layout()\n",
    "        canvas = FigureCanvasTkAgg(fig, master=frame)\n",
    "        canvas.draw()\n",
    "        canvas.get_tk_widget().pack(expand=True, fill=\"both\")\n",
    "\n",
    "    def create_installation_update_analysis(self, parent, row, column):\n",
    "        frame = ttk.Frame(parent, padding=\"5\")\n",
    "        frame.grid(row=row, column=column, sticky=\"nsew\", pady=5)\n",
    "        frame.columnconfigure(0, weight=1)\n",
    "\n",
    "        installs_by_category = apps_df.groupby('Category')['Installs'].sum().nlargest(10)\n",
    "        fig, ax = plt.subplots(figsize=(5, 3))\n",
    "        sns.barplot(x=installs_by_category.values, y=installs_by_category.index, palette='coolwarm', ax=ax)\n",
    "        ax.set_title('Installations by Category')\n",
    "        ax.set_xlabel('Number of Installations')\n",
    "        ax.set_ylabel('Category')\n",
    "        fig.tight_layout()\n",
    "        canvas = FigureCanvasTkAgg(fig, master=frame)\n",
    "        canvas.draw()\n",
    "        canvas.get_tk_widget().pack(expand=True, fill=\"both\")\n",
    "\n",
    "        updates_over_year = apps_df['Year'].value_counts().sort_index()\n",
    "        fig, ax = plt.subplots(figsize=(5, 3))\n",
    "        sns.lineplot(x=updates_over_year.index, y=updates_over_year.values, marker='o', ax=ax)\n",
    "        ax.set_title('Distribution of App Updates Over the Year')\n",
    "        ax.set_xlabel('Year')\n",
    "        ax.set_ylabel('Number of Updates')\n",
    "        fig.tight_layout()\n",
    "        canvas = FigureCanvasTkAgg(fig, master=frame)\n",
    "        canvas.draw()\n",
    "        canvas.get_tk_widget().pack(expand=True, fill=\"both\")\n",
    "\n",
    "    def create_additional_insights(self, parent, row, column):\n",
    "        frame = ttk.Frame(parent, padding=\"5\")\n",
    "        frame.grid(row=row, column=column, sticky=\"nsew\", pady=5)\n",
    "        frame.columnconfigure(0, weight=1)\n",
    "\n",
    "        revenue_by_category = apps_df.groupby('Category')['Revenue'].sum().nlargest(10)\n",
    "        fig, ax = plt.subplots(figsize=(5, 3))\n",
    "        sns.barplot(x=revenue_by_category.values, y=revenue_by_category.index, palette='viridis', ax=ax)\n",
    "        ax.set_title('Revenue by Category')\n",
    "        ax.set_xlabel('Revenue')\n",
    "        ax.set_ylabel('Category')\n",
    "        fig.tight_layout()\n",
    "        canvas = FigureCanvasTkAgg(fig, master=frame)\n",
    "        canvas.draw()\n",
    "        canvas.get_tk_widget().pack(expand=True, fill=\"both\")\n",
    "\n",
    "        genres_counts = apps_df['Genres'].str.split(';').explode().value_counts().nlargest(10)\n",
    "        fig, ax = plt.subplots(figsize=(5, 3))\n",
    "        sns.barplot(x=genres_counts.values, y=genres_counts.index, palette='magma', ax=ax)\n",
    "        ax.set_title('Top Genres on Play Store')\n",
    "        ax.set_xlabel('Number of Apps')\n",
    "        ax.set_ylabel('Genres')\n",
    "        fig.tight_layout()\n",
    "        canvas = FigureCanvasTkAgg(fig, master=frame)\n",
    "        canvas.draw()\n",
    "        canvas.get_tk_widget().pack(expand=True, fill=\"both\")\n",
    "\n",
    "        fig, ax = plt.subplots(figsize=(5, 3))\n",
    "        sns.boxplot(data=apps_df, x='Year', y='Rating', palette='cool', ax=ax)\n",
    "        ax.set_title('Effect of Last Update on Rating')\n",
    "        ax.set_xlabel('Year')\n",
    "        ax.set_ylabel('Rating')\n",
    "        fig.tight_layout()\n",
    "        canvas = FigureCanvasTkAgg(fig, master=frame)\n",
    "        canvas.draw()\n",
    "        canvas.get_tk_widget().pack(expand=True, fill=\"both\")\n",
    "\n",
    "        fig, ax = plt.subplots(figsize=(5, 3))\n",
    "        sns.boxplot(data=apps_df, x='Type', y='Rating', palette='Set2', ax=ax)\n",
    "        ax.set_title('Ratings for Paid vs Free Apps')\n",
    "        ax.set_xlabel('Type')\n",
    "        ax.set_ylabel('Rating')\n",
    "        fig.tight_layout()\n",
    "        canvas = FigureCanvasTkAgg(fig, master=frame)\n",
    "        canvas.draw()\n",
    "        canvas.get_tk_widget().pack(expand=True, fill=\"both\")\n",
    "\n",
    "    def create_ml_model_evaluation(self, parent, row, column):\n",
    "        frame = ttk.Frame(parent, padding=\"5\")\n",
    "        frame.grid(row=row, column=column, sticky=\"nsew\", pady=5)\n",
    "        frame.columnconfigure(0, weight=1)\n",
    "\n",
    "        X = apps_df[['Log_Reviews', 'Log_Installs', 'Price']]\n",
    "        y = apps_df['Rating']\n",
    "\n",
    "        X_train, X_test, y_train, y_test = train_test_split(X, y, test_size=0.2, random_state=42)\n",
    "\n",
    "        model = RandomForestRegressor(n_estimators=100, random_state=42)\n",
    "        model.fit(X_train, y_train)\n",
    "        y_pred = model.predict(X_test)\n",
    "\n",
    "        mse = mean_squared_error(y_test, y_pred)\n",
    "        r2 = r2_score(y_test, y_pred)\n",
    "\n",
    "        fig, ax = plt.subplots(figsize=(5, 3))\n",
    "        ax.scatter(y_test, y_pred, alpha=0.3)\n",
    "        ax.plot([0, 5], [0, 5], 'r--')\n",
    "        ax.set_title(f'ML Model Evaluation (MSE: {mse:.2f}, R2: {r2:.2f})')\n",
    "        ax.set_xlabel('True Rating')\n",
    "        ax.set_ylabel('Predicted Rating')\n",
    "        fig.tight_layout()\n",
    "        canvas = FigureCanvasTkAgg(fig, master=frame)\n",
    "        canvas.draw()\n",
    "        canvas.get_tk_widget().pack(expand=True, fill=\"both\")\n",
    "\n",
    "if __name__ == \"__main__\":\n",
    "    app = AppDashboard()\n",
    "    app.mainloop()"
   ]
  },
  {
   "cell_type": "code",
   "execution_count": 55,
   "id": "cfa4d113-97c3-487e-a57f-eef580e60578",
   "metadata": {},
   "outputs": [],
   "source": [
    "html_files_path=\"./\"\n",
    "if not os.path.exists(html_files_path):\n",
    "    os.makedirs(html_files_path)\n",
    "plot_containers=\"\""
   ]
  },
  {
   "cell_type": "code",
   "execution_count": 56,
   "id": "7ca01409-f9d2-4ab4-9a1f-4868fcff6921",
   "metadata": {},
   "outputs": [],
   "source": [
    "# Save each Plotly figure to an HTML file\n",
    "def save_plot_as_html(fig, filename, insight):\n",
    "    global plot_containers\n",
    "    filepath = os.path.join(html_files_path, filename)\n",
    "    html_content = pio.to_html(fig, full_html=False, include_plotlyjs='inline')\n",
    "    # Append the plot and its insight to plot_containers\n",
    "    plot_containers += f\"\"\"\n",
    "    <div class=\"plot-container\" id=\"{filename}\" onclick=\"openPlot('{filename}')\">\n",
    "        <div class=\"plot\">{html_content}</div>\n",
    "        <div class=\"insights\">{insight}</div>\n",
    "    </div>\n",
    "    \"\"\"\n",
    "    fig.write_html(filepath, full_html=False, include_plotlyjs='inline')"
   ]
  },
  {
   "cell_type": "code",
   "execution_count": 57,
   "id": "0748dbe0-6a7a-4ac6-9b02-942c70fe1694",
   "metadata": {},
   "outputs": [],
   "source": [
    "plot_width=400\n",
    "plot_height=300\n",
    "plot_bg_color='black'\n",
    "text_color='white'\n",
    "title_font={'size':16}\n",
    "axis_font={'size':12}"
   ]
  },
  {
   "cell_type": "code",
   "execution_count": 61,
   "id": "f386818f-3103-4cb4-ad90-5f770400c83d",
   "metadata": {},
   "outputs": [],
   "source": [
    "#Figure 1\n",
    "category_counts=apps_df['Category'].value_counts().nlargest(10)\n",
    "fig1=px.bar(\n",
    "    x=category_counts.index,\n",
    "    y=category_counts.values,\n",
    "    labels={'x':'Category','y':'Count'},\n",
    "    title='Top Categories on Play Store',\n",
    "    color=category_counts.index,\n",
    "    color_discrete_sequence=px.colors.sequential.Plasma,\n",
    "    width=400,\n",
    "    height=300\n",
    ")\n",
    "fig1.update_layout(\n",
    "    plot_bgcolor='black',\n",
    "    paper_bgcolor='black',\n",
    "    font_color='white',\n",
    "    title_font={'size':16},\n",
    "    xaxis=dict(title_font={'size':12}),\n",
    "    yaxis=dict(title_font={'size':12}),\n",
    "    margin=dict(l=10,r=10,t=30,b=10)\n",
    ")\n",
    "#fig1.update_traces(marker=dict(pattern=dict(line=dict(color='white',width=1))))\n",
    "save_plot_as_html(fig1,\"Category Graph 1.html\",\"The top categories on the Play Store are dominated by tools, entertainment, and productivity apps\")\n",
    "            "
   ]
  },
  {
   "cell_type": "code",
   "execution_count": 62,
   "id": "5d4fbb66-3428-4bdb-bb88-178dd12e973d",
   "metadata": {},
   "outputs": [],
   "source": [
    "#Figure 2\n",
    "type_counts=apps_df['Type'].value_counts()\n",
    "fig2=px.pie(\n",
    "    values=type_counts.values,\n",
    "    names=type_counts.index,\n",
    "    title='App Type Distribution',\n",
    "    color_discrete_sequence=px.colors.sequential.RdBu,\n",
    "    width=400,\n",
    "    height=300\n",
    ")\n",
    "fig2.update_layout(\n",
    "    plot_bgcolor='black',\n",
    "    paper_bgcolor='black',\n",
    "    font_color='white',\n",
    "    title_font={'size':16},\n",
    "    margin=dict(l=10,r=10,t=30,b=10)\n",
    ")\n",
    "#fig1.update_traces(marker=dict(pattern=dict(line=dict(color='white',width=1))))\n",
    "save_plot_as_html(fig2,\"Type Graph 2.html\",\"Most apps on the Playstore are free, indicating a strategy to attract users first and monetize through ads or in app purchases\")"
   ]
  },
  {
   "cell_type": "code",
   "execution_count": 63,
   "id": "352529f8-c509-43a4-a8b1-9168491f5d4b",
   "metadata": {},
   "outputs": [],
   "source": [
    "#Figure 3\n",
    "fig3=px.histogram(\n",
    "    apps_df,\n",
    "    x='Rating',\n",
    "    nbins=20,\n",
    "    title='Rating Distribution',\n",
    "    color_discrete_sequence=['#636EFA'],\n",
    "    width=400,\n",
    "    height=300\n",
    ")\n",
    "fig3.update_layout(\n",
    "    plot_bgcolor='black',\n",
    "    paper_bgcolor='black',\n",
    "    font_color='white',\n",
    "    title_font={'size':16},\n",
    "    xaxis=dict(title_font={'size':12}),\n",
    "    yaxis=dict(title_font={'size':12}),\n",
    "    margin=dict(l=10,r=10,t=30,b=10)\n",
    ")\n",
    "#fig1.update_traces(marker=dict(pattern=dict(line=dict(color='white',width=1))))\n",
    "save_plot_as_html(fig3,\"Rating Graph 3.html\",\"Ratings are skewed towards higher values, suggesting that most apps are rated favorably by users\")"
   ]
  },
  {
   "cell_type": "code",
   "execution_count": 64,
   "id": "4f8c53bc-6e31-495b-a4e6-14adeb506bfb",
   "metadata": {},
   "outputs": [],
   "source": [
    "#Figure 4\n",
    "sentiment_counts=reviews_df['Sentiment_Score'].value_counts()\n",
    "fig4=px.bar(\n",
    "    x=sentiment_counts.index,\n",
    "    y=sentiment_counts.values,\n",
    "    labels={'x':'Sentiment Score','y':'Count'},\n",
    "    title='Sentiment Distribution',\n",
    "    color=sentiment_counts.index,\n",
    "    color_discrete_sequence=px.colors.sequential.RdPu,\n",
    "    width=400,\n",
    "    height=300\n",
    ")\n",
    "fig4.update_layout(\n",
    "    plot_bgcolor='black',\n",
    "    paper_bgcolor='black',\n",
    "    font_color='white',\n",
    "    title_font={'size':16},\n",
    "    xaxis=dict(title_font={'size':12}),\n",
    "    yaxis=dict(title_font={'size':12}),\n",
    "    margin=dict(l=10,r=10,t=30,b=10)\n",
    ")\n",
    "#fig1.update_traces(marker=dict(pattern=dict(line=dict(color='white',width=1))))\n",
    "save_plot_as_html(fig4,\"Sentiment Graph 4.html\",\"Sentiments in reviews show a mix of positive and negative feedback, with a slight lean towards positive sentiments\")"
   ]
  },
  {
   "cell_type": "code",
   "execution_count": 65,
   "id": "ec902462-e390-4168-807d-9764e38f6d93",
   "metadata": {},
   "outputs": [],
   "source": [
    "#Figure 5\n",
    "installs_by_category=apps_df.groupby('Category')['Installs'].sum().nlargest(10)\n",
    "fig5=px.bar(\n",
    "    x=installs_by_category.index,\n",
    "    y=installs_by_category.values,\n",
    "    orientation='h',\n",
    "    labels={'x':'Installs','y':'Category'},\n",
    "    title='Installs by Category',\n",
    "    color=installs_by_category.index,\n",
    "    color_discrete_sequence=px.colors.sequential.Blues,\n",
    "    width=400,\n",
    "    height=300\n",
    ")\n",
    "fig5.update_layout(\n",
    "    plot_bgcolor='black',\n",
    "    paper_bgcolor='black',\n",
    "    font_color='white',\n",
    "    title_font={'size':16},\n",
    "    xaxis=dict(title_font={'size':12}),\n",
    "    yaxis=dict(title_font={'size':12}),\n",
    "    margin=dict(l=10,r=10,t=30,b=10)\n",
    ")\n",
    "#fig1.update_traces(marker=dict(pattern=dict(line=dict(color='white',width=1))))\n",
    "save_plot_as_html(fig5,\"Installs Graph 5.html\",\"The categories with the most installs are social and communication apps, reflecting their broad appeal and daily usage\")"
   ]
  },
  {
   "cell_type": "code",
   "execution_count": 66,
   "id": "f2a570db-8233-4e68-acdf-a19e75375b7d",
   "metadata": {},
   "outputs": [],
   "source": [
    "# Updates Per Year Plot\n",
    "updates_per_year = apps_df['Last Updated'].dt.year.value_counts().sort_index()\n",
    "fig6 = px.line(\n",
    "    x=updates_per_year.index,\n",
    "    y=updates_per_year.values,\n",
    "    labels={'x': 'Year', 'y': 'Number of Updates'},\n",
    "    title='Number of Updates Over the Years',\n",
    "    color_discrete_sequence=['#AB63FA'],\n",
    "    width=plot_width,\n",
    "    height=plot_height\n",
    ")\n",
    "fig6.update_layout(\n",
    "    plot_bgcolor=plot_bg_color,\n",
    "    paper_bgcolor=plot_bg_color,\n",
    "    font_color=text_color,\n",
    "    title_font=title_font,\n",
    "    xaxis=dict(title_font=axis_font),\n",
    "    yaxis=dict(title_font=axis_font),\n",
    "    margin=dict(l=10, r=10, t=30, b=10)\n",
    ")\n",
    "save_plot_as_html(fig6, \"Updates Graph 6.html\", \"Updates have been increasing over the years, showing that developers are actively maintaining and improving their apps.\")"
   ]
  },
  {
   "cell_type": "code",
   "execution_count": 67,
   "id": "80ca76c5-333f-4114-8127-16c8eb85a9fd",
   "metadata": {},
   "outputs": [],
   "source": [
    "#Figure 7\n",
    "revenue_by_category=apps_df.groupby('Category')['Revenue'].sum().nlargest(10)\n",
    "fig7=px.bar(\n",
    "    x=installs_by_category.index,\n",
    "    y=installs_by_category.values,\n",
    "    labels={'x':'Category','y':'Revenue'},\n",
    "    title='Revenue by Category',\n",
    "    color=installs_by_category.index,\n",
    "    color_discrete_sequence=px.colors.sequential.Greens,\n",
    "    width=400,\n",
    "    height=300\n",
    ")\n",
    "fig7.update_layout(\n",
    "    plot_bgcolor='black',\n",
    "    paper_bgcolor='black',\n",
    "    font_color='white',\n",
    "    title_font={'size':16},\n",
    "    xaxis=dict(title_font={'size':12}),\n",
    "    yaxis=dict(title_font={'size':12}),\n",
    "    margin=dict(l=10,r=10,t=30,b=10)\n",
    ")\n",
    "#fig1.update_traces(marker=dict(pattern=dict(line=dict(color='white',width=1))))\n",
    "save_plot_as_html(fig7,\"Revenue Graph 7.html\",\"Categories such as Business and Productivity lead in revenue generation, indicating their monetization potential\")"
   ]
  },
  {
   "cell_type": "code",
   "execution_count": 68,
   "id": "d93715c2-a0be-4f71-bc4a-51dc9cd8edd2",
   "metadata": {},
   "outputs": [],
   "source": [
    "#Figure 8\n",
    "genre_counts=apps_df['Genres'].str.split(';',expand=True).stack().value_counts().nlargest(10)\n",
    "fig8=px.bar(\n",
    "    x=genre_counts.index,\n",
    "    y=genre_counts.values,\n",
    "    labels={'x':'Genre','y':'Count'},\n",
    "    title='Top Genres',\n",
    "    color=installs_by_category.index,\n",
    "    color_discrete_sequence=px.colors.sequential.OrRd,\n",
    "    width=400,\n",
    "    height=300\n",
    ")\n",
    "fig8.update_layout(\n",
    "    plot_bgcolor='black',\n",
    "    paper_bgcolor='black',\n",
    "    font_color='white',\n",
    "    title_font={'size':16},\n",
    "    xaxis=dict(title_font={'size':12}),\n",
    "    yaxis=dict(title_font={'size':12}),\n",
    "    margin=dict(l=10,r=10,t=30,b=10)\n",
    ")\n",
    "#fig1.update_traces(marker=dict(pattern=dict(line=dict(color='white',width=1))))\n",
    "save_plot_as_html(fig8,\"Genre Graph 8.html\",\"Action and Casual genres are the most common, reflecting users' preference for engaging and easy-to-play games\")"
   ]
  },
  {
   "cell_type": "code",
   "execution_count": 69,
   "id": "6a1d3c0c-482e-4f64-b6b5-3af997d45408",
   "metadata": {},
   "outputs": [
    {
     "name": "stderr",
     "output_type": "stream",
     "text": [
      "C:\\Users\\phars\\OneDrive\\Documents\\anaconda_files\\Lib\\site-packages\\_plotly_utils\\basevalidators.py:106: FutureWarning:\n",
      "\n",
      "The behavior of DatetimeProperties.to_pydatetime is deprecated, in a future version this will return a Series containing python datetime objects instead of an ndarray. To retain the old behavior, call `np.array` on the result\n",
      "\n"
     ]
    }
   ],
   "source": [
    "#Figure 9\n",
    "fig9=px.scatter(\n",
    "    apps_df,\n",
    "    x='Last Updated',\n",
    "    y='Rating',\n",
    "    color='Type',\n",
    "    title='Impact of Last Update on Rating',\n",
    "    color_discrete_sequence=px.colors.qualitative.Vivid,\n",
    "    width=400,\n",
    "    height=300\n",
    ")\n",
    "fig9.update_layout(\n",
    "    plot_bgcolor='black',\n",
    "    paper_bgcolor='black',\n",
    "    font_color='white',\n",
    "    title_font={'size':16},\n",
    "    xaxis=dict(title_font={'size':12}),\n",
    "    yaxis=dict(title_font={'size':12}),\n",
    "    margin=dict(l=10,r=10,t=30,b=10)\n",
    ")\n",
    "#fig1.update_traces(marker=dict(pattern=dict(line=dict(color='white',width=1))))\n",
    "save_plot_as_html(fig9,\"Update Graph 9.html\",\"The Scatter Plot shows a weak correlation between the last update and ratings, suggesting that more frequent updates dont always result in better ratings.\")"
   ]
  },
  {
   "cell_type": "code",
   "execution_count": 70,
   "id": "a6de5b29-a2a0-4ab0-8bb1-984cf7b1c319",
   "metadata": {},
   "outputs": [],
   "source": [
    "#Figure 10\n",
    "fig10=px.box(\n",
    "    apps_df,\n",
    "    x='Type',\n",
    "    y='Rating',\n",
    "    color='Type',\n",
    "    title='Rating for Paid vs Free Apps',\n",
    "    color_discrete_sequence=px.colors.qualitative.Pastel,\n",
    "    width=400,\n",
    "    height=300\n",
    ")\n",
    "fig10.update_layout(\n",
    "    plot_bgcolor='black',\n",
    "    paper_bgcolor='black',\n",
    "    font_color='white',\n",
    "    title_font={'size':16},\n",
    "    xaxis=dict(title_font={'size':12}),\n",
    "    yaxis=dict(title_font={'size':12}),\n",
    "    margin=dict(l=10,r=10,t=30,b=10)\n",
    ")\n",
    "#fig1.update_traces(marker=dict(pattern=dict(line=dict(color='white',width=1))))\n",
    "save_plot_as_html(fig10,\"Paid Free Graph 10.html\",\"Paid apps generally have higher ratings compared to free apps, suggesting that users expect higher quality from apps they pay for\")"
   ]
  },
  {
   "cell_type": "code",
   "execution_count": 71,
   "id": "d4503e4b-d001-46d4-a2ab-5205bff7a545",
   "metadata": {},
   "outputs": [],
   "source": [
    "plot_containers_split=plot_containers.split('</div>')"
   ]
  },
  {
   "cell_type": "code",
   "execution_count": 72,
   "id": "0eafb202-a28c-4ad2-ba4f-2dd3f891469f",
   "metadata": {},
   "outputs": [],
   "source": [
    "if len(plot_containers_split) > 1:\n",
    "    final_plot=plot_containers_split[-2]+'</div>'\n",
    "else:\n",
    "    final_plot=plot_containers"
   ]
  },
  {
   "cell_type": "code",
   "execution_count": 73,
   "id": "0f86e901-a201-4420-b3fc-b374b436c455",
   "metadata": {},
   "outputs": [],
   "source": [
    "dashboard_html= \"\"\"\n",
    "<!DOCTYPE html>\n",
    "<html lang=\"en\">\n",
    "<head>\n",
    "    <meta charset=\"UTF-8\">\n",
    "    <meta name=viewport\" content=\"width=device-width,initial-scale-1.0\">\n",
    "    <title> Google Play Store Review Analytics</title>\n",
    "    <style>\n",
    "        body {{\n",
    "            font-family: Arial, sans-serif;\n",
    "            background-color: #333;\n",
    "            color: #fff;\n",
    "            margin: 0;\n",
    "            padding: 0;\n",
    "        }}\n",
    "        .header {{\n",
    "            display: flex;\n",
    "            align-items: center;\n",
    "            justify-content: center;\n",
    "            padding: 20px;\n",
    "            background-color: #444\n",
    "        }}\n",
    "        .header img {{\n",
    "            margin: 0 10px;\n",
    "            height: 50px;\n",
    "        }}\n",
    "        .container {{\n",
    "            display: flex;\n",
    "            flex-wrap: wrap;\n",
    "            justify_content: center;\n",
    "            padding: 20px;\n",
    "        }}\n",
    "        .plot-container {{\n",
    "            border: 2px solid #555\n",
    "            margin: 10px;\n",
    "            padding: 10px;\n",
    "            width: {plot_width}px;\n",
    "            height: {plot_height}px;\n",
    "            overflow: hidden;\n",
    "            position: relative;\n",
    "            cursor: pointer;\n",
    "        }}\n",
    "        .insights {{\n",
    "            display: none;\n",
    "            position: absolute;\n",
    "            right: 10px;\n",
    "            top: 10px;\n",
    "            background-color: rgba(0,0,0,0.7);\n",
    "            padding: 5px;\n",
    "            border-radius: 5px;\n",
    "            color: #fff;\n",
    "        }}\n",
    "        .plot-container: hover .insights {{\n",
    "            display: block;\n",
    "        }}\n",
    "        </style>\n",
    "        <script>\n",
    "            function openPlot(filename) {{\n",
    "                window.open(filename, '_blank');\n",
    "                }}\n",
    "        </script>\n",
    "    </head>\n",
    "    <body>\n",
    "        <div class= \"header\">\n",
    "            <img src=\"https://upload.wikimedia.org/wikipedia/commons/thumb/4/4a/Logo_2013_Google.png/800px-Logo_2013_Google.png\" alt=\"Google Logo\">\n",
    "            <h1>Google Play Store Reviews Analytics</h1>\n",
    "            <img src=\"https://upload.wikimedia.org/wikipedia/commons/thumb/7/78/Google_Play_Store_badge_EN.svg/1024px-Google_Play_Store_badge_EN.svg.png\" alt=\"Google Play Store Logo\">\n",
    "        </div>\n",
    "        <div class=\"container\">\n",
    "            {plots}\n",
    "        </div>\n",
    "    </body>\n",
    "    </html>\n",
    "    \"\"\"\n"
   ]
  },
  {
   "cell_type": "code",
   "execution_count": 74,
   "id": "7c7aa9e1-c088-4709-a65e-c65072af91d4",
   "metadata": {},
   "outputs": [],
   "source": [
    "final_html=dashboard_html.format(plots=plot_containers,plot_width=plot_width,plot_height=plot_height)"
   ]
  },
  {
   "cell_type": "code",
   "execution_count": 75,
   "id": "13c3199e-0184-4673-822b-9a92248d92ed",
   "metadata": {},
   "outputs": [],
   "source": [
    "dashboard_path=os.path.join(html_files_path,\"web page.html\")"
   ]
  },
  {
   "cell_type": "code",
   "execution_count": 76,
   "id": "405ecb8b-d4eb-40c4-9b38-307c02f75896",
   "metadata": {},
   "outputs": [],
   "source": [
    "with open(dashboard_path, \"w\", encoding=\"utf-8\") as f:\n",
    "    f.write(final_html)"
   ]
  },
  {
   "cell_type": "code",
   "execution_count": 77,
   "id": "a2dae25b-117d-4a6b-9d3d-a4d745e04aac",
   "metadata": {},
   "outputs": [
    {
     "data": {
      "text/plain": [
       "True"
      ]
     },
     "execution_count": 77,
     "metadata": {},
     "output_type": "execute_result"
    }
   ],
   "source": [
    "webbrowser.open('file://'+os.path.realpath(dashboard_path))"
   ]
  },
  {
   "cell_type": "code",
   "execution_count": null,
   "id": "775785ed-db41-493d-8e33-073236c4a26f",
   "metadata": {},
   "outputs": [],
   "source": [
    "\n",
    "\n",
    "\n"
   ]
  },
  {
   "cell_type": "code",
   "execution_count": 79,
   "id": "7211640b-f9e1-4498-a13f-c2dc7d89c1ac",
   "metadata": {},
   "outputs": [
    {
     "data": {
      "application/vnd.plotly.v1+json": {
       "config": {
        "plotlyServerURL": "https://plot.ly"
       },
       "data": [
        {
         "marker": {
          "color": "#d62728"
         },
         "name": "Negative",
         "type": "bar",
         "x": [
          "COMMUNICATION",
          "FAMILY",
          "GAME",
          "SOCIAL",
          "TOOLS"
         ],
         "y": [
          0,
          11,
          2,
          0,
          2
         ]
        },
        {
         "marker": {
          "color": "#ff7f0e"
         },
         "name": "Neutral",
         "type": "bar",
         "x": [
          "COMMUNICATION",
          "FAMILY",
          "GAME",
          "SOCIAL",
          "TOOLS"
         ],
         "y": [
          41,
          231,
          132,
          31,
          76
         ]
        },
        {
         "marker": {
          "color": "#2ca02c"
         },
         "name": "Positive",
         "type": "bar",
         "x": [
          "COMMUNICATION",
          "FAMILY",
          "GAME",
          "SOCIAL",
          "TOOLS"
         ],
         "y": [
          195,
          740,
          782,
          160,
          298
         ]
        }
       ],
       "layout": {
        "barmode": "stack",
        "height": 600,
        "legend": {
         "title": {
          "text": "Sentiment"
         }
        },
        "template": {
         "data": {
          "bar": [
           {
            "error_x": {
             "color": "#2a3f5f"
            },
            "error_y": {
             "color": "#2a3f5f"
            },
            "marker": {
             "line": {
              "color": "#E5ECF6",
              "width": 0.5
             },
             "pattern": {
              "fillmode": "overlay",
              "size": 10,
              "solidity": 0.2
             }
            },
            "type": "bar"
           }
          ],
          "barpolar": [
           {
            "marker": {
             "line": {
              "color": "#E5ECF6",
              "width": 0.5
             },
             "pattern": {
              "fillmode": "overlay",
              "size": 10,
              "solidity": 0.2
             }
            },
            "type": "barpolar"
           }
          ],
          "carpet": [
           {
            "aaxis": {
             "endlinecolor": "#2a3f5f",
             "gridcolor": "white",
             "linecolor": "white",
             "minorgridcolor": "white",
             "startlinecolor": "#2a3f5f"
            },
            "baxis": {
             "endlinecolor": "#2a3f5f",
             "gridcolor": "white",
             "linecolor": "white",
             "minorgridcolor": "white",
             "startlinecolor": "#2a3f5f"
            },
            "type": "carpet"
           }
          ],
          "choropleth": [
           {
            "colorbar": {
             "outlinewidth": 0,
             "ticks": ""
            },
            "type": "choropleth"
           }
          ],
          "contour": [
           {
            "colorbar": {
             "outlinewidth": 0,
             "ticks": ""
            },
            "colorscale": [
             [
              0,
              "#0d0887"
             ],
             [
              0.1111111111111111,
              "#46039f"
             ],
             [
              0.2222222222222222,
              "#7201a8"
             ],
             [
              0.3333333333333333,
              "#9c179e"
             ],
             [
              0.4444444444444444,
              "#bd3786"
             ],
             [
              0.5555555555555556,
              "#d8576b"
             ],
             [
              0.6666666666666666,
              "#ed7953"
             ],
             [
              0.7777777777777778,
              "#fb9f3a"
             ],
             [
              0.8888888888888888,
              "#fdca26"
             ],
             [
              1,
              "#f0f921"
             ]
            ],
            "type": "contour"
           }
          ],
          "contourcarpet": [
           {
            "colorbar": {
             "outlinewidth": 0,
             "ticks": ""
            },
            "type": "contourcarpet"
           }
          ],
          "heatmap": [
           {
            "colorbar": {
             "outlinewidth": 0,
             "ticks": ""
            },
            "colorscale": [
             [
              0,
              "#0d0887"
             ],
             [
              0.1111111111111111,
              "#46039f"
             ],
             [
              0.2222222222222222,
              "#7201a8"
             ],
             [
              0.3333333333333333,
              "#9c179e"
             ],
             [
              0.4444444444444444,
              "#bd3786"
             ],
             [
              0.5555555555555556,
              "#d8576b"
             ],
             [
              0.6666666666666666,
              "#ed7953"
             ],
             [
              0.7777777777777778,
              "#fb9f3a"
             ],
             [
              0.8888888888888888,
              "#fdca26"
             ],
             [
              1,
              "#f0f921"
             ]
            ],
            "type": "heatmap"
           }
          ],
          "heatmapgl": [
           {
            "colorbar": {
             "outlinewidth": 0,
             "ticks": ""
            },
            "colorscale": [
             [
              0,
              "#0d0887"
             ],
             [
              0.1111111111111111,
              "#46039f"
             ],
             [
              0.2222222222222222,
              "#7201a8"
             ],
             [
              0.3333333333333333,
              "#9c179e"
             ],
             [
              0.4444444444444444,
              "#bd3786"
             ],
             [
              0.5555555555555556,
              "#d8576b"
             ],
             [
              0.6666666666666666,
              "#ed7953"
             ],
             [
              0.7777777777777778,
              "#fb9f3a"
             ],
             [
              0.8888888888888888,
              "#fdca26"
             ],
             [
              1,
              "#f0f921"
             ]
            ],
            "type": "heatmapgl"
           }
          ],
          "histogram": [
           {
            "marker": {
             "pattern": {
              "fillmode": "overlay",
              "size": 10,
              "solidity": 0.2
             }
            },
            "type": "histogram"
           }
          ],
          "histogram2d": [
           {
            "colorbar": {
             "outlinewidth": 0,
             "ticks": ""
            },
            "colorscale": [
             [
              0,
              "#0d0887"
             ],
             [
              0.1111111111111111,
              "#46039f"
             ],
             [
              0.2222222222222222,
              "#7201a8"
             ],
             [
              0.3333333333333333,
              "#9c179e"
             ],
             [
              0.4444444444444444,
              "#bd3786"
             ],
             [
              0.5555555555555556,
              "#d8576b"
             ],
             [
              0.6666666666666666,
              "#ed7953"
             ],
             [
              0.7777777777777778,
              "#fb9f3a"
             ],
             [
              0.8888888888888888,
              "#fdca26"
             ],
             [
              1,
              "#f0f921"
             ]
            ],
            "type": "histogram2d"
           }
          ],
          "histogram2dcontour": [
           {
            "colorbar": {
             "outlinewidth": 0,
             "ticks": ""
            },
            "colorscale": [
             [
              0,
              "#0d0887"
             ],
             [
              0.1111111111111111,
              "#46039f"
             ],
             [
              0.2222222222222222,
              "#7201a8"
             ],
             [
              0.3333333333333333,
              "#9c179e"
             ],
             [
              0.4444444444444444,
              "#bd3786"
             ],
             [
              0.5555555555555556,
              "#d8576b"
             ],
             [
              0.6666666666666666,
              "#ed7953"
             ],
             [
              0.7777777777777778,
              "#fb9f3a"
             ],
             [
              0.8888888888888888,
              "#fdca26"
             ],
             [
              1,
              "#f0f921"
             ]
            ],
            "type": "histogram2dcontour"
           }
          ],
          "mesh3d": [
           {
            "colorbar": {
             "outlinewidth": 0,
             "ticks": ""
            },
            "type": "mesh3d"
           }
          ],
          "parcoords": [
           {
            "line": {
             "colorbar": {
              "outlinewidth": 0,
              "ticks": ""
             }
            },
            "type": "parcoords"
           }
          ],
          "pie": [
           {
            "automargin": true,
            "type": "pie"
           }
          ],
          "scatter": [
           {
            "fillpattern": {
             "fillmode": "overlay",
             "size": 10,
             "solidity": 0.2
            },
            "type": "scatter"
           }
          ],
          "scatter3d": [
           {
            "line": {
             "colorbar": {
              "outlinewidth": 0,
              "ticks": ""
             }
            },
            "marker": {
             "colorbar": {
              "outlinewidth": 0,
              "ticks": ""
             }
            },
            "type": "scatter3d"
           }
          ],
          "scattercarpet": [
           {
            "marker": {
             "colorbar": {
              "outlinewidth": 0,
              "ticks": ""
             }
            },
            "type": "scattercarpet"
           }
          ],
          "scattergeo": [
           {
            "marker": {
             "colorbar": {
              "outlinewidth": 0,
              "ticks": ""
             }
            },
            "type": "scattergeo"
           }
          ],
          "scattergl": [
           {
            "marker": {
             "colorbar": {
              "outlinewidth": 0,
              "ticks": ""
             }
            },
            "type": "scattergl"
           }
          ],
          "scattermapbox": [
           {
            "marker": {
             "colorbar": {
              "outlinewidth": 0,
              "ticks": ""
             }
            },
            "type": "scattermapbox"
           }
          ],
          "scatterpolar": [
           {
            "marker": {
             "colorbar": {
              "outlinewidth": 0,
              "ticks": ""
             }
            },
            "type": "scatterpolar"
           }
          ],
          "scatterpolargl": [
           {
            "marker": {
             "colorbar": {
              "outlinewidth": 0,
              "ticks": ""
             }
            },
            "type": "scatterpolargl"
           }
          ],
          "scatterternary": [
           {
            "marker": {
             "colorbar": {
              "outlinewidth": 0,
              "ticks": ""
             }
            },
            "type": "scatterternary"
           }
          ],
          "surface": [
           {
            "colorbar": {
             "outlinewidth": 0,
             "ticks": ""
            },
            "colorscale": [
             [
              0,
              "#0d0887"
             ],
             [
              0.1111111111111111,
              "#46039f"
             ],
             [
              0.2222222222222222,
              "#7201a8"
             ],
             [
              0.3333333333333333,
              "#9c179e"
             ],
             [
              0.4444444444444444,
              "#bd3786"
             ],
             [
              0.5555555555555556,
              "#d8576b"
             ],
             [
              0.6666666666666666,
              "#ed7953"
             ],
             [
              0.7777777777777778,
              "#fb9f3a"
             ],
             [
              0.8888888888888888,
              "#fdca26"
             ],
             [
              1,
              "#f0f921"
             ]
            ],
            "type": "surface"
           }
          ],
          "table": [
           {
            "cells": {
             "fill": {
              "color": "#EBF0F8"
             },
             "line": {
              "color": "white"
             }
            },
            "header": {
             "fill": {
              "color": "#C8D4E3"
             },
             "line": {
              "color": "white"
             }
            },
            "type": "table"
           }
          ]
         },
         "layout": {
          "annotationdefaults": {
           "arrowcolor": "#2a3f5f",
           "arrowhead": 0,
           "arrowwidth": 1
          },
          "autotypenumbers": "strict",
          "coloraxis": {
           "colorbar": {
            "outlinewidth": 0,
            "ticks": ""
           }
          },
          "colorscale": {
           "diverging": [
            [
             0,
             "#8e0152"
            ],
            [
             0.1,
             "#c51b7d"
            ],
            [
             0.2,
             "#de77ae"
            ],
            [
             0.3,
             "#f1b6da"
            ],
            [
             0.4,
             "#fde0ef"
            ],
            [
             0.5,
             "#f7f7f7"
            ],
            [
             0.6,
             "#e6f5d0"
            ],
            [
             0.7,
             "#b8e186"
            ],
            [
             0.8,
             "#7fbc41"
            ],
            [
             0.9,
             "#4d9221"
            ],
            [
             1,
             "#276419"
            ]
           ],
           "sequential": [
            [
             0,
             "#0d0887"
            ],
            [
             0.1111111111111111,
             "#46039f"
            ],
            [
             0.2222222222222222,
             "#7201a8"
            ],
            [
             0.3333333333333333,
             "#9c179e"
            ],
            [
             0.4444444444444444,
             "#bd3786"
            ],
            [
             0.5555555555555556,
             "#d8576b"
            ],
            [
             0.6666666666666666,
             "#ed7953"
            ],
            [
             0.7777777777777778,
             "#fb9f3a"
            ],
            [
             0.8888888888888888,
             "#fdca26"
            ],
            [
             1,
             "#f0f921"
            ]
           ],
           "sequentialminus": [
            [
             0,
             "#0d0887"
            ],
            [
             0.1111111111111111,
             "#46039f"
            ],
            [
             0.2222222222222222,
             "#7201a8"
            ],
            [
             0.3333333333333333,
             "#9c179e"
            ],
            [
             0.4444444444444444,
             "#bd3786"
            ],
            [
             0.5555555555555556,
             "#d8576b"
            ],
            [
             0.6666666666666666,
             "#ed7953"
            ],
            [
             0.7777777777777778,
             "#fb9f3a"
            ],
            [
             0.8888888888888888,
             "#fdca26"
            ],
            [
             1,
             "#f0f921"
            ]
           ]
          },
          "colorway": [
           "#636efa",
           "#EF553B",
           "#00cc96",
           "#ab63fa",
           "#FFA15A",
           "#19d3f3",
           "#FF6692",
           "#B6E880",
           "#FF97FF",
           "#FECB52"
          ],
          "font": {
           "color": "#2a3f5f"
          },
          "geo": {
           "bgcolor": "white",
           "lakecolor": "white",
           "landcolor": "#E5ECF6",
           "showlakes": true,
           "showland": true,
           "subunitcolor": "white"
          },
          "hoverlabel": {
           "align": "left"
          },
          "hovermode": "closest",
          "mapbox": {
           "style": "light"
          },
          "paper_bgcolor": "white",
          "plot_bgcolor": "#E5ECF6",
          "polar": {
           "angularaxis": {
            "gridcolor": "white",
            "linecolor": "white",
            "ticks": ""
           },
           "bgcolor": "#E5ECF6",
           "radialaxis": {
            "gridcolor": "white",
            "linecolor": "white",
            "ticks": ""
           }
          },
          "scene": {
           "xaxis": {
            "backgroundcolor": "#E5ECF6",
            "gridcolor": "white",
            "gridwidth": 2,
            "linecolor": "white",
            "showbackground": true,
            "ticks": "",
            "zerolinecolor": "white"
           },
           "yaxis": {
            "backgroundcolor": "#E5ECF6",
            "gridcolor": "white",
            "gridwidth": 2,
            "linecolor": "white",
            "showbackground": true,
            "ticks": "",
            "zerolinecolor": "white"
           },
           "zaxis": {
            "backgroundcolor": "#E5ECF6",
            "gridcolor": "white",
            "gridwidth": 2,
            "linecolor": "white",
            "showbackground": true,
            "ticks": "",
            "zerolinecolor": "white"
           }
          },
          "shapedefaults": {
           "line": {
            "color": "#2a3f5f"
           }
          },
          "ternary": {
           "aaxis": {
            "gridcolor": "white",
            "linecolor": "white",
            "ticks": ""
           },
           "baxis": {
            "gridcolor": "white",
            "linecolor": "white",
            "ticks": ""
           },
           "bgcolor": "#E5ECF6",
           "caxis": {
            "gridcolor": "white",
            "linecolor": "white",
            "ticks": ""
           }
          },
          "title": {
           "x": 0.05
          },
          "xaxis": {
           "automargin": true,
           "gridcolor": "white",
           "linecolor": "white",
           "ticks": "",
           "title": {
            "standoff": 15
           },
           "zerolinecolor": "white",
           "zerolinewidth": 2
          },
          "yaxis": {
           "automargin": true,
           "gridcolor": "white",
           "linecolor": "white",
           "ticks": "",
           "title": {
            "standoff": 15
           },
           "zerolinecolor": "white",
           "zerolinewidth": 2
          }
         }
        },
        "title": {
         "text": "Stacked Bar Chart: Sentiment Distribution by Category"
        },
        "width": 1000,
        "xaxis": {
         "autorange": true,
         "range": [
          -0.5,
          4.5
         ],
         "tickangle": -45,
         "title": {
          "text": "App Category"
         },
         "type": "category"
        },
        "yaxis": {
         "autorange": true,
         "range": [
          0,
          1033.6842105263158
         ],
         "title": {
          "text": "Number of Reviews"
         },
         "type": "linear"
        }
       }
      },
      "image/png": "[encoded data removed]",
      "text/html": [
       "<div>                            <div id=\"b9001f96-bcb5-4268-b56d-5365ba3037cf\" class=\"plotly-graph-div\" style=\"height:600px; width:1000px;\"></div>            <script type=\"text/javascript\">                require([\"plotly\"], function(Plotly) {                    window.PLOTLYENV=window.PLOTLYENV || {};                                    if (document.getElementById(\"b9001f96-bcb5-4268-b56d-5365ba3037cf\")) {                    Plotly.newPlot(                        \"b9001f96-bcb5-4268-b56d-5365ba3037cf\",                        [{\"marker\":{\"color\":\"#d62728\"},\"name\":\"Negative\",\"x\":[\"COMMUNICATION\",\"FAMILY\",\"GAME\",\"SOCIAL\",\"TOOLS\"],\"y\":[0.0,11.0,2.0,0.0,2.0],\"type\":\"bar\"},{\"marker\":{\"color\":\"#ff7f0e\"},\"name\":\"Neutral\",\"x\":[\"COMMUNICATION\",\"FAMILY\",\"GAME\",\"SOCIAL\",\"TOOLS\"],\"y\":[41.0,231.0,132.0,31.0,76.0],\"type\":\"bar\"},{\"marker\":{\"color\":\"#2ca02c\"},\"name\":\"Positive\",\"x\":[\"COMMUNICATION\",\"FAMILY\",\"GAME\",\"SOCIAL\",\"TOOLS\"],\"y\":[195.0,740.0,782.0,160.0,298.0],\"type\":\"bar\"}],                        {\"template\":{\"data\":{\"histogram2dcontour\":[{\"type\":\"histogram2dcontour\",\"colorbar\":{\"outlinewidth\":0,\"ticks\":\"\"},\"colorscale\":[[0.0,\"#0d0887\"],[0.1111111111111111,\"#46039f\"],[0.2222222222222222,\"#7201a8\"],[0.3333333333333333,\"#9c179e\"],[0.4444444444444444,\"#bd3786\"],[0.5555555555555556,\"#d8576b\"],[0.6666666666666666,\"#ed7953\"],[0.7777777777777778,\"#fb9f3a\"],[0.8888888888888888,\"#fdca26\"],[1.0,\"#f0f921\"]]}],\"choropleth\":[{\"type\":\"choropleth\",\"colorbar\":{\"outlinewidth\":0,\"ticks\":\"\"}}],\"histogram2d\":[{\"type\":\"histogram2d\",\"colorbar\":{\"outlinewidth\":0,\"ticks\":\"\"},\"colorscale\":[[0.0,\"#0d0887\"],[0.1111111111111111,\"#46039f\"],[0.2222222222222222,\"#7201a8\"],[0.3333333333333333,\"#9c179e\"],[0.4444444444444444,\"#bd3786\"],[0.5555555555555556,\"#d8576b\"],[0.6666666666666666,\"#ed7953\"],[0.7777777777777778,\"#fb9f3a\"],[0.8888888888888888,\"#fdca26\"],[1.0,\"#f0f921\"]]}],\"heatmap\":[{\"type\":\"heatmap\",\"colorbar\":{\"outlinewidth\":0,\"ticks\":\"\"},\"colorscale\":[[0.0,\"#0d0887\"],[0.1111111111111111,\"#46039f\"],[0.2222222222222222,\"#7201a8\"],[0.3333333333333333,\"#9c179e\"],[0.4444444444444444,\"#bd3786\"],[0.5555555555555556,\"#d8576b\"],[0.6666666666666666,\"#ed7953\"],[0.7777777777777778,\"#fb9f3a\"],[0.8888888888888888,\"#fdca26\"],[1.0,\"#f0f921\"]]}],\"heatmapgl\":[{\"type\":\"heatmapgl\",\"colorbar\":{\"outlinewidth\":0,\"ticks\":\"\"},\"colorscale\":[[0.0,\"#0d0887\"],[0.1111111111111111,\"#46039f\"],[0.2222222222222222,\"#7201a8\"],[0.3333333333333333,\"#9c179e\"],[0.4444444444444444,\"#bd3786\"],[0.5555555555555556,\"#d8576b\"],[0.6666666666666666,\"#ed7953\"],[0.7777777777777778,\"#fb9f3a\"],[0.8888888888888888,\"#fdca26\"],[1.0,\"#f0f921\"]]}],\"contourcarpet\":[{\"type\":\"contourcarpet\",\"colorbar\":{\"outlinewidth\":0,\"ticks\":\"\"}}],\"contour\":[{\"type\":\"contour\",\"colorbar\":{\"outlinewidth\":0,\"ticks\":\"\"},\"colorscale\":[[0.0,\"#0d0887\"],[0.1111111111111111,\"#46039f\"],[0.2222222222222222,\"#7201a8\"],[0.3333333333333333,\"#9c179e\"],[0.4444444444444444,\"#bd3786\"],[0.5555555555555556,\"#d8576b\"],[0.6666666666666666,\"#ed7953\"],[0.7777777777777778,\"#fb9f3a\"],[0.8888888888888888,\"#fdca26\"],[1.0,\"#f0f921\"]]}],\"surface\":[{\"type\":\"surface\",\"colorbar\":{\"outlinewidth\":0,\"ticks\":\"\"},\"colorscale\":[[0.0,\"#0d0887\"],[0.1111111111111111,\"#46039f\"],[0.2222222222222222,\"#7201a8\"],[0.3333333333333333,\"#9c179e\"],[0.4444444444444444,\"#bd3786\"],[0.5555555555555556,\"#d8576b\"],[0.6666666666666666,\"#ed7953\"],[0.7777777777777778,\"#fb9f3a\"],[0.8888888888888888,\"#fdca26\"],[1.0,\"#f0f921\"]]}],\"mesh3d\":[{\"type\":\"mesh3d\",\"colorbar\":{\"outlinewidth\":0,\"ticks\":\"\"}}],\"scatter\":[{\"fillpattern\":{\"fillmode\":\"overlay\",\"size\":10,\"solidity\":0.2},\"type\":\"scatter\"}],\"parcoords\":[{\"type\":\"parcoords\",\"line\":{\"colorbar\":{\"outlinewidth\":0,\"ticks\":\"\"}}}],\"scatterpolargl\":[{\"type\":\"scatterpolargl\",\"marker\":{\"colorbar\":{\"outlinewidth\":0,\"ticks\":\"\"}}}],\"bar\":[{\"error_x\":{\"color\":\"#2a3f5f\"},\"error_y\":{\"color\":\"#2a3f5f\"},\"marker\":{\"line\":{\"color\":\"#E5ECF6\",\"width\":0.5},\"pattern\":{\"fillmode\":\"overlay\",\"size\":10,\"solidity\":0.2}},\"type\":\"bar\"}],\"scattergeo\":[{\"type\":\"scattergeo\",\"marker\":{\"colorbar\":{\"outlinewidth\":0,\"ticks\":\"\"}}}],\"scatterpolar\":[{\"type\":\"scatterpolar\",\"marker\":{\"colorbar\":{\"outlinewidth\":0,\"ticks\":\"\"}}}],\"histogram\":[{\"marker\":{\"pattern\":{\"fillmode\":\"overlay\",\"size\":10,\"solidity\":0.2}},\"type\":\"histogram\"}],\"scattergl\":[{\"type\":\"scattergl\",\"marker\":{\"colorbar\":{\"outlinewidth\":0,\"ticks\":\"\"}}}],\"scatter3d\":[{\"type\":\"scatter3d\",\"line\":{\"colorbar\":{\"outlinewidth\":0,\"ticks\":\"\"}},\"marker\":{\"colorbar\":{\"outlinewidth\":0,\"ticks\":\"\"}}}],\"scattermapbox\":[{\"type\":\"scattermapbox\",\"marker\":{\"colorbar\":{\"outlinewidth\":0,\"ticks\":\"\"}}}],\"scatterternary\":[{\"type\":\"scatterternary\",\"marker\":{\"colorbar\":{\"outlinewidth\":0,\"ticks\":\"\"}}}],\"scattercarpet\":[{\"type\":\"scattercarpet\",\"marker\":{\"colorbar\":{\"outlinewidth\":0,\"ticks\":\"\"}}}],\"carpet\":[{\"aaxis\":{\"endlinecolor\":\"#2a3f5f\",\"gridcolor\":\"white\",\"linecolor\":\"white\",\"minorgridcolor\":\"white\",\"startlinecolor\":\"#2a3f5f\"},\"baxis\":{\"endlinecolor\":\"#2a3f5f\",\"gridcolor\":\"white\",\"linecolor\":\"white\",\"minorgridcolor\":\"white\",\"startlinecolor\":\"#2a3f5f\"},\"type\":\"carpet\"}],\"table\":[{\"cells\":{\"fill\":{\"color\":\"#EBF0F8\"},\"line\":{\"color\":\"white\"}},\"header\":{\"fill\":{\"color\":\"#C8D4E3\"},\"line\":{\"color\":\"white\"}},\"type\":\"table\"}],\"barpolar\":[{\"marker\":{\"line\":{\"color\":\"#E5ECF6\",\"width\":0.5},\"pattern\":{\"fillmode\":\"overlay\",\"size\":10,\"solidity\":0.2}},\"type\":\"barpolar\"}],\"pie\":[{\"automargin\":true,\"type\":\"pie\"}]},\"layout\":{\"autotypenumbers\":\"strict\",\"colorway\":[\"#636efa\",\"#EF553B\",\"#00cc96\",\"#ab63fa\",\"#FFA15A\",\"#19d3f3\",\"#FF6692\",\"#B6E880\",\"#FF97FF\",\"#FECB52\"],\"font\":{\"color\":\"#2a3f5f\"},\"hovermode\":\"closest\",\"hoverlabel\":{\"align\":\"left\"},\"paper_bgcolor\":\"white\",\"plot_bgcolor\":\"#E5ECF6\",\"polar\":{\"bgcolor\":\"#E5ECF6\",\"angularaxis\":{\"gridcolor\":\"white\",\"linecolor\":\"white\",\"ticks\":\"\"},\"radialaxis\":{\"gridcolor\":\"white\",\"linecolor\":\"white\",\"ticks\":\"\"}},\"ternary\":{\"bgcolor\":\"#E5ECF6\",\"aaxis\":{\"gridcolor\":\"white\",\"linecolor\":\"white\",\"ticks\":\"\"},\"baxis\":{\"gridcolor\":\"white\",\"linecolor\":\"white\",\"ticks\":\"\"},\"caxis\":{\"gridcolor\":\"white\",\"linecolor\":\"white\",\"ticks\":\"\"}},\"coloraxis\":{\"colorbar\":{\"outlinewidth\":0,\"ticks\":\"\"}},\"colorscale\":{\"sequential\":[[0.0,\"#0d0887\"],[0.1111111111111111,\"#46039f\"],[0.2222222222222222,\"#7201a8\"],[0.3333333333333333,\"#9c179e\"],[0.4444444444444444,\"#bd3786\"],[0.5555555555555556,\"#d8576b\"],[0.6666666666666666,\"#ed7953\"],[0.7777777777777778,\"#fb9f3a\"],[0.8888888888888888,\"#fdca26\"],[1.0,\"#f0f921\"]],\"sequentialminus\":[[0.0,\"#0d0887\"],[0.1111111111111111,\"#46039f\"],[0.2222222222222222,\"#7201a8\"],[0.3333333333333333,\"#9c179e\"],[0.4444444444444444,\"#bd3786\"],[0.5555555555555556,\"#d8576b\"],[0.6666666666666666,\"#ed7953\"],[0.7777777777777778,\"#fb9f3a\"],[0.8888888888888888,\"#fdca26\"],[1.0,\"#f0f921\"]],\"diverging\":[[0,\"#8e0152\"],[0.1,\"#c51b7d\"],[0.2,\"#de77ae\"],[0.3,\"#f1b6da\"],[0.4,\"#fde0ef\"],[0.5,\"#f7f7f7\"],[0.6,\"#e6f5d0\"],[0.7,\"#b8e186\"],[0.8,\"#7fbc41\"],[0.9,\"#4d9221\"],[1,\"#276419\"]]},\"xaxis\":{\"gridcolor\":\"white\",\"linecolor\":\"white\",\"ticks\":\"\",\"title\":{\"standoff\":15},\"zerolinecolor\":\"white\",\"automargin\":true,\"zerolinewidth\":2},\"yaxis\":{\"gridcolor\":\"white\",\"linecolor\":\"white\",\"ticks\":\"\",\"title\":{\"standoff\":15},\"zerolinecolor\":\"white\",\"automargin\":true,\"zerolinewidth\":2},\"scene\":{\"xaxis\":{\"backgroundcolor\":\"#E5ECF6\",\"gridcolor\":\"white\",\"linecolor\":\"white\",\"showbackground\":true,\"ticks\":\"\",\"zerolinecolor\":\"white\",\"gridwidth\":2},\"yaxis\":{\"backgroundcolor\":\"#E5ECF6\",\"gridcolor\":\"white\",\"linecolor\":\"white\",\"showbackground\":true,\"ticks\":\"\",\"zerolinecolor\":\"white\",\"gridwidth\":2},\"zaxis\":{\"backgroundcolor\":\"#E5ECF6\",\"gridcolor\":\"white\",\"linecolor\":\"white\",\"showbackground\":true,\"ticks\":\"\",\"zerolinecolor\":\"white\",\"gridwidth\":2}},\"shapedefaults\":{\"line\":{\"color\":\"#2a3f5f\"}},\"annotationdefaults\":{\"arrowcolor\":\"#2a3f5f\",\"arrowhead\":0,\"arrowwidth\":1},\"geo\":{\"bgcolor\":\"white\",\"landcolor\":\"#E5ECF6\",\"subunitcolor\":\"white\",\"showland\":true,\"showlakes\":true,\"lakecolor\":\"white\"},\"title\":{\"x\":0.05},\"mapbox\":{\"style\":\"light\"}}},\"xaxis\":{\"title\":{\"text\":\"App Category\"},\"tickangle\":-45},\"barmode\":\"stack\",\"title\":{\"text\":\"Stacked Bar Chart: Sentiment Distribution by Category\"},\"yaxis\":{\"title\":{\"text\":\"Number of Reviews\"}},\"legend\":{\"title\":{\"text\":\"Sentiment\"}},\"height\":600,\"width\":1000},                        {\"responsive\": true}                    ).then(function(){\n",
       "                            \n",
       "var gd = document.getElementById('b9001f96-bcb5-4268-b56d-5365ba3037cf');\n",
       "var x = new MutationObserver(function (mutations, observer) {{\n",
       "        var display = window.getComputedStyle(gd).display;\n",
       "        if (!display || display === 'none') {{\n",
       "            console.log([gd, 'removed!']);\n",
       "            Plotly.purge(gd);\n",
       "            observer.disconnect();\n",
       "        }}\n",
       "}});\n",
       "\n",
       "// Listen for the removal of the full notebook cells\n",
       "var notebookContainer = gd.closest('#notebook-container');\n",
       "if (notebookContainer) {{\n",
       "    x.observe(notebookContainer, {childList: true});\n",
       "}}\n",
       "\n",
       "// Listen for the clearing of the current output cell\n",
       "var outputEl = gd.closest('.output');\n",
       "if (outputEl) {{\n",
       "    x.observe(outputEl, {childList: true});\n",
       "}}\n",
       "\n",
       "                        })                };                });            </script>        </div>"
      ]
     },
     "metadata": {},
     "output_type": "display_data"
    }
   ],
   "source": [
    "#ASSIGNMENT TASK 1 \n",
    "\n",
    "import seaborn as sns\n",
    "import matplotlib.pyplot as plt\n",
    "\n",
    "df=pd.read_csv('Play Store Data.csv')\n",
    "\n",
    "def convert_shorthand(x):\n",
    "    if isinstance(x, str):\n",
    "        x = x.upper().strip()\n",
    "        if 'M' in x:\n",
    "            return float(x.replace('M', '')) * 1000000\n",
    "        elif 'K' in x:\n",
    "            return float(x.replace('K', '')) * 1000\n",
    "        elif 'B' in x:\n",
    "            return float(x.replace('B', '')) * 1000000000\n",
    "        else:\n",
    "            return float(x)\n",
    "    return x\n",
    "\n",
    "df['Reviews']= df['Reviews'].apply(convert_shorthand).astype(int)\n",
    "\n",
    "fil_df = df[df['Reviews'] > 1000]\n",
    "\n",
    "top5_categories = fil_df.groupby('Category')['Reviews'].sum().nlargest(5).index\n",
    "fil_df = fil_df[fil_df['Category'].isin(top5_categories)]\n",
    "\n",
    "def get_sentiment(rating):\n",
    "    if rating >= 4.1:\n",
    "        return 'Positive'\n",
    "    elif rating >= 3.0:\n",
    "        return 'Neutral'\n",
    "    else:\n",
    "        return 'Negative'\n",
    "\n",
    "fil_df['Sentiment'] = fil_df['Rating'].apply(get_sentiment)\n",
    "\n",
    "def group_rating(r):\n",
    "    if r <= 2.0:\n",
    "        return '1-2 stars'\n",
    "    elif r <= 4.0:\n",
    "        return '3-4 stars'\n",
    "    else:\n",
    "        return '4-5 stars'\n",
    "\n",
    "fil_df['Rating Group'] = fil_df['Rating'].apply(group_rating)\n",
    "\n",
    "import plotly.graph_objects as go\n",
    "import pandas as pd\n",
    "\n",
    "grouped = fil_df.groupby(['Category', 'Sentiment']).size().reset_index(name='Count')\n",
    "\n",
    "pivot_df = grouped.pivot_table(index='Category', columns='Sentiment', values='Count', fill_value=0).reset_index()\n",
    "\n",
    "for sentiment in ['Negative', 'Neutral', 'Positive']:\n",
    "    if sentiment not in pivot_df.columns:\n",
    "        pivot_df[sentiment] = 0\n",
    "\n",
    "# Create the figure\n",
    "fig = go.Figure()\n",
    "\n",
    "# Add traces for each sentiment\n",
    "fig.add_trace(go.Bar(\n",
    "    x=pivot_df['Category'],\n",
    "    y=pivot_df['Negative'],\n",
    "    name='Negative',\n",
    "    marker_color='#d62728'\n",
    "))\n",
    "\n",
    "fig.add_trace(go.Bar(\n",
    "    x=pivot_df['Category'],\n",
    "    y=pivot_df['Neutral'],\n",
    "    name='Neutral',\n",
    "    marker_color='#ff7f0e'\n",
    "))\n",
    "\n",
    "fig.add_trace(go.Bar(\n",
    "    x=pivot_df['Category'],\n",
    "    y=pivot_df['Positive'],\n",
    "    name='Positive',\n",
    "    marker_color='#2ca02c'\n",
    "))\n",
    "\n",
    "# Update layout for stacked bars\n",
    "fig.update_layout(\n",
    "    barmode='stack',\n",
    "    title='Stacked Bar Chart: Sentiment Distribution by Category',\n",
    "    xaxis_title='App Category',\n",
    "    yaxis_title='Number of Reviews',\n",
    "    xaxis_tickangle=-45,\n",
    "    legend_title='Sentiment',\n",
    "    height=600,\n",
    "    width=1000\n",
    ")\n",
    "\n",
    "fig.show()\n"
   ]
  },
  {
   "cell_type": "code",
   "execution_count": 81,
   "id": "d50d1c15-1352-4d70-bdbb-223678620952",
   "metadata": {},
   "outputs": [],
   "source": [
    "#ASSIGNMENT TASK 2 \n",
    "\n",
    "\n",
    "df = pd.read_csv(\"Play Store Data.csv\")\n",
    "\n",
    "# Drop rows with missing essential values\n",
    "df = df.dropna(subset=['Rating', 'Reviews', 'Size', 'Installs', 'Last Updated'])\n",
    "\n",
    "# Filter by rating ≥ 4.0\n",
    "df['Rating'] = pd.to_numeric(df['Rating'], errors='coerce')\n",
    "df = df[df['Rating'] >= 4.0]\n",
    "\n",
    "def convert_size(size):\n",
    "    if 'M' in size:\n",
    "        return float(size.replace('M', '').strip())\n",
    "    elif 'k' in size:\n",
    "        return float(size.replace('k', '').strip()) / 1024\n",
    "    elif size == 'Varies with device':\n",
    "        return np.nan\n",
    "    return np.nan\n",
    "\n",
    "df['Size_MB'] = df['Size'].apply(convert_size)\n",
    "df = df[df['Size_MB'] >= 10]\n",
    "\n",
    "df['Last Updated'] = pd.to_datetime(df['Last Updated'], errors='coerce')\n",
    "df = df[df['Last Updated'].dt.month == 1]\n",
    "\n",
    "df['Installs'] = df['Installs'].astype(str).str.extract('(\\d+)')\n",
    "df['Installs'] = pd.to_numeric(df['Installs'], errors='coerce')\n",
    "df = df.dropna(subset=['Installs'])  # Remove rows where conversion failed\n",
    "df['Installs'] = df['Installs'].astype(int)\n",
    "\n",
    "df['Reviews'] = pd.to_numeric(df['Reviews'], errors='coerce')\n",
    "\n",
    "top_categories = df.groupby('Category')['Installs'].sum().nlargest(10).index\n",
    "df_top = df[df['Category'].isin(top_categories)]\n",
    "\n",
    "summary = df_top.groupby('Category').agg({\n",
    "    'Rating': 'mean',\n",
    "    'Reviews': 'sum'\n",
    "}).reset_index()"
   ]
  },
  {
   "cell_type": "code",
   "execution_count": 84,
   "id": "c08c2191-c38b-4efe-9d05-a61ae98daec9",
   "metadata": {},
   "outputs": [
    {
     "name": "stdout",
     "output_type": "stream",
     "text": [
      "⛔ Graph not shown: Current IST time is 10:34.\n",
      "This visualization is only available between 15:00 and 17:00 IST.\n"
     ]
    }
   ],
   "source": [
    "ist = pytz.timezone('Asia/Kolkata')\n",
    "current_time = datetime.now(ist)\n",
    "if 15 <= current_time.hour < 17:\n",
    "    fig, ax1 = plt.subplots(figsize=(12, 6))\n",
    "\n",
    "    bar_width = 0.35\n",
    "    index = np.arange(len(summary))\n",
    "\n",
    "    # Bar for total reviews (primary y-axis)\n",
    "    bars1 = ax1.bar(index, summary['Reviews'], bar_width, label='Total Reviews', color='green')\n",
    "    ax1.set_ylabel('Total Reviews', color='green')\n",
    "    ax1.tick_params(axis='y', labelcolor='green')\n",
    "\n",
    "    # Bar for average rating (secondary y-axis)\n",
    "    ax2 = ax1.twinx()\n",
    "    bars2 = ax2.bar(index + bar_width, summary['Rating'], bar_width, label='Average Rating', color='blue')\n",
    "    ax2.set_ylabel('Average Rating', color='blue')\n",
    "    ax2.tick_params(axis='y', labelcolor='blue')\n",
    "    ax2.set_ylim(0, 5)  # Ratings are on a scale of 0 to 5\n",
    "\n",
    "    # X-axis setup\n",
    "    ax1.set_xlabel('App Category')\n",
    "    ax1.set_title('Top 10 App Categories by Installs (Filtered)')\n",
    "    ax1.set_xticks(index + bar_width / 2)\n",
    "    ax1.set_xticklabels(summary['Category'], rotation=45)\n",
    "\n",
    "    # Combine legends\n",
    "    bars = bars1 + bars2\n",
    "    labels = [bar.get_label() for bar in bars]\n",
    "    ax1.legend()\n",
    "\n",
    "    plt.tight_layout()\n",
    "    plt.show()\n",
    "else:\n",
    "    print(f\"⛔ Graph not shown: Current IST time is {current_time.strftime('%H:%M')}.\\n\"\"This visualization is only available between 15:00 and 17:00 IST.\")"
   ]
  },
  {
   "cell_type": "code",
   "execution_count": 85,
   "id": "665a9202-7dac-4e93-b374-e49768150c77",
   "metadata": {},
   "outputs": [],
   "source": [
    "#ASSIGNMENT TASK 3 \n",
    "\n",
    "\n",
    "data = pd.read_csv('Play Store Data.csv')\n",
    "\n",
    "data['Installs'] = data['Installs'].str.replace('[+,]', '', regex=True)\n",
    "\n",
    "data['Installs'] = pd.to_numeric(data['Installs'], errors='coerce')\n",
    "\n",
    "data = data.dropna(subset=['Installs'])\n",
    "\n",
    "data['Installs'] = data['Installs'].astype(int)\n",
    "\n",
    "data = data[~data['Category'].str.startswith(('A', 'C', 'G', 'S'))]\n",
    "\n",
    "\n",
    "category_installs = data.groupby('Category')['Installs'].sum().reset_index()\n",
    "\n",
    "top5_categories = category_installs.nlargest(5, 'Installs')['Category']\n",
    "\n",
    "filtered_data = data[data['Category'].isin(top5_categories)]\n",
    "\n",
    "country_installs = filtered_data.groupby([ 'Category'])['Installs'].sum().reset_index()\n",
    "\n",
    "country_installs['Highlight'] = country_installs['Installs'] > 1_000_000"
   ]
  },
  {
   "cell_type": "code",
   "execution_count": 88,
   "id": "0e330cf2-d202-4c01-9842-f0d9b7e0dfa2",
   "metadata": {},
   "outputs": [
    {
     "name": "stdout",
     "output_type": "stream",
     "text": [
      "Choropleth map will be visible only between 6 PM and 8 PM IST.\n"
     ]
    }
   ],
   "source": [
    "ist = pytz.timezone('Asia/Kolkata')\n",
    "current_time_ist = datetime.now(ist).time()\n",
    "\n",
    "if current_time_ist >= datetime.strptime('18:00', '%H:%M').time() and current_time_ist <= datetime.strptime('20:00', '%H:%M').time():\n",
    "    fig = px.choropleth(\n",
    "        country_installs,\n",
    "        # locations=\"Country\",\n",
    "        locationmode=\"country names\",\n",
    "        color=\"Installs\",\n",
    "        # hover_name=\"Country\",\n",
    "        hover_data={\"Category\": True, \"Installs\": True, \"Highlight\": True},\n",
    "        animation_frame=\"Category\",\n",
    "        color_continuous_scale=\"Blues\",\n",
    "        title=\"Global Installs by App Category (Filtered Top 5)\"\n",
    "    )\n",
    "\n",
    "    fig.update_layout(\n",
    "        geo=dict(showframe=False, showcoastlines=True, projection_type='equirectangular'),\n",
    "        title_x=0.5\n",
    "    )\n",
    "\n",
    "    fig.show()\n",
    "else:\n",
    "    print(\"Choropleth map will be visible only between 6 PM and 8 PM IST.\")"
   ]
  },
  {
   "cell_type": "code",
   "execution_count": 90,
   "id": "91a589f6-82c5-4bbc-b983-28f533df80c6",
   "metadata": {},
   "outputs": [
    {
     "name": "stderr",
     "output_type": "stream",
     "text": [
      "C:\\Users\\phars\\AppData\\Local\\Temp\\ipykernel_8092\\4018996118.py:41: SettingWithCopyWarning:\n",
      "\n",
      "\n",
      "A value is trying to be set on a copy of a slice from a DataFrame.\n",
      "Try using .loc[row_indexer,col_indexer] = value instead\n",
      "\n",
      "See the caveats in the documentation: https://pandas.pydata.org/pandas-docs/stable/user_guide/indexing.html#returning-a-view-versus-a-copy\n",
      "\n"
     ]
    }
   ],
   "source": [
    "# ASSIGNMENT TASK 4 \n",
    "\n",
    "\n",
    "df = pd.read_csv(\"Play Store Data.csv\") \n",
    "\n",
    "def size_to_mb(size):\n",
    "    if pd.isna(size) or size == 'Varies with device':\n",
    "        return None\n",
    "    size = size.replace('M', '').replace('k', '')\n",
    "    try:\n",
    "        if 'M' in size:\n",
    "            return float(size)\n",
    "        elif 'k' in size:\n",
    "            return float(size) / 1024\n",
    "        else:\n",
    "            return float(size)\n",
    "    except:\n",
    "        return None\n",
    "\n",
    "df['Size_MB'] = df['Size'].replace('Varies with device', None)\n",
    "df['Size_MB'] = df['Size_MB'].str.replace('M', '').str.replace('k', '')\n",
    "df['Size_MB'] = pd.to_numeric(df['Size_MB'], errors='coerce')\n",
    "\n",
    "df['Installs'] = df['Installs'].str.replace('+', '', regex=False).str.replace(',', '', regex=False)\n",
    "df['Installs'] = pd.to_numeric(df['Installs'], errors='coerce')\n",
    "df['Reviews'] = pd.to_numeric(df['Reviews'], errors='coerce')\n",
    "\n",
    "categories = ['GAME', 'BEAUTY', 'BUSINESS', 'COMICS', 'COMMUNICATION', 'DATING', 'ENTERTAINMENT', 'SOCIAL', 'EVENT']\n",
    "df_filtered = df[\n",
    "    (df['Rating'] > 3.5) &\n",
    "    (df['Category'].isin(categories)) &\n",
    "    (df['Reviews'] > 500) &\n",
    "    (~df['App'].str.contains('s', case=False)) &\n",
    "    (df['Installs'] > 50000)\n",
    "]\n",
    "category_translation = {\n",
    "    'BEAUTY': 'सौंदर्य',\n",
    "    'BUSINESS': 'வணிகம்',\n",
    "    'DATING': 'Verabredung'\n",
    "}\n",
    "df_filtered['Category'] = df_filtered['Category'].replace(category_translation)\n",
    "\n",
    "                    "
   ]
  },
  {
   "cell_type": "code",
   "execution_count": 93,
   "id": "71fe6971-a0c3-4427-a705-d5f0d2c8223f",
   "metadata": {},
   "outputs": [
    {
     "name": "stdout",
     "output_type": "stream",
     "text": [
      "This chart is available only between 5 PM and 7 PM IST.\n"
     ]
    }
   ],
   "source": [
    "ist = pytz.timezone('Asia/Kolkata')\n",
    "now_ist = datetime.now(ist)\n",
    "if 17 <= now_ist.hour < 19:\n",
    "    plt.figure(figsize=(12, 8))\n",
    "    sns.set(style=\"whitegrid\")\n",
    "\n",
    "    # Assign color pink to Game\n",
    "    colors = df_filtered['Category'].apply(lambda x: 'pink' if x == 'GAME' else 'blue')\n",
    "\n",
    "    bubble = plt.scatter(\n",
    "        df_filtered['Size_MB'], df_filtered['Rating'],\n",
    "        s=df_filtered['Installs'] / 1000,  # bubble size\n",
    "        alpha=0.6, c=colors\n",
    "    )\n",
    "\n",
    "    plt.title(\"App Size vs Rating (Bubble Size = Installs)\")\n",
    "    plt.xlabel(\"App Size (MB)\")\n",
    "    plt.ylabel(\"Average Rating\")\n",
    "    plt.grid(True)\n",
    "    plt.show()\n",
    "else:\n",
    "    print(\"This chart is available only between 5 PM and 7 PM IST.\")"
   ]
  },
  {
   "cell_type": "code",
   "execution_count": 94,
   "id": "1b4db32e-6955-4748-b09f-76244304385a",
   "metadata": {},
   "outputs": [],
   "source": [
    "# ASSIGNMENT TASK 5 \n",
    "\n",
    "\n",
    "df = pd.read_csv(\"Play Store Data.csv\")\n",
    "\n",
    "def parse_reviews(value):\n",
    "    if isinstance(value, str):\n",
    "        value = value.strip()\n",
    "        if 'M' in value:\n",
    "            return int(float(value.replace('M', '')) * 1_000_000)\n",
    "        elif 'K' in value:\n",
    "            return int(float(value.replace('K', '')) * 1_000)\n",
    "        elif value.isnumeric():\n",
    "            return int(value)\n",
    "    return np.nan\n",
    "\n",
    "df['Parsed_Reviews'] = df['Reviews'].apply(parse_reviews)\n",
    "\n",
    "df_filtered = df[\n",
    "    (~df['App'].str.lower().str.startswith(('x', 'y', 'z'))) &\n",
    "    (~df['App'].str.lower().str.contains('s')) &\n",
    "    (df['Category'].str.startswith(('E', 'C', 'B'))) &\n",
    "    (df['Parsed_Reviews'] > 500)\n",
    "].copy()\n",
    "\n",
    "df_filtered['Installs'] = df_filtered['Installs'].str.replace('[+,]', '', regex=True)\n",
    "df_filtered = df_filtered[df_filtered['Installs'].str.isnumeric()]\n",
    "df_filtered['Installs'] = df_filtered['Installs'].astype(int)\n",
    "\n",
    "df_filtered['Last Updated'] = pd.to_datetime(df_filtered['Last Updated'], errors='coerce')\n",
    "df_filtered['Month'] = df_filtered['Last Updated'].dt.to_period('M')\n",
    "translation = {\n",
    "    'Beauty': 'सौंदर्य',        # Hindi\n",
    "    'Business': 'வணிகம்',      # Tamil\n",
    "    'Dating': 'Partnersuche'   # German\n",
    "}\n",
    "df_filtered['Category'] = df_filtered['Category'].replace(translation)\n",
    "\n",
    "grouped = df_filtered.groupby(['Month', 'Category'])['Installs'].sum().reset_index()\n",
    "grouped['Month'] = grouped['Month'].dt.to_timestamp()\n",
    "grouped['Pct_Change'] = grouped.groupby('Category')['Installs'].pct_change()\n",
    "\n",
    "now_utc = datetime.utcnow().replace(tzinfo=pytz.utc)\n",
    "now_ist = now_utc.astimezone(pytz.timezone('Asia/Kolkata'))"
   ]
  },
  {
   "cell_type": "code",
   "execution_count": 97,
   "id": "deabdb2a-1ef8-4820-bf5d-44d7a6823ebb",
   "metadata": {},
   "outputs": [
    {
     "name": "stdout",
     "output_type": "stream",
     "text": [
      "This graph is only visible between 6 PM and 9 PM IST.\n"
     ]
    }
   ],
   "source": [
    "if 18 <= now_ist.hour < 21:\n",
    "    sns.set(style=\"whitegrid\")\n",
    "    plt.figure(figsize=(14, 8))\n",
    "\n",
    "    for cat in grouped['Category'].unique():\n",
    "        cat_data = grouped[grouped['Category'] == cat]\n",
    "        plt.plot(cat_data['Month'], cat_data['Installs'], label=cat)\n",
    "\n",
    "        growth = cat_data[cat_data['Pct_Change'] > 0.2]\n",
    "        plt.fill_between(growth['Month'], 0, growth['Installs'], alpha=0.3)\n",
    "\n",
    "    plt.title(\"Monthly Install Trends by Category (20%+ Growth Highlighted)\")\n",
    "    plt.xlabel(\"Month\")\n",
    "    plt.ylabel(\"Total Installs\")\n",
    "    plt.xticks(rotation=45)\n",
    "    plt.legend(title=\"App Category\")\n",
    "    plt.tight_layout()\n",
    "    plt.grid(True)\n",
    "    plt.show()\n",
    "else:\n",
    "    print(\"This graph is only visible between 6 PM and 9 PM IST.\")"
   ]
  },
  {
   "cell_type": "code",
   "execution_count": null,
   "id": "09728ce5-b983-4351-8b04-8c2b4d8d296c",
   "metadata": {},
   "outputs": [],
   "source": []
  }
 ],
 "metadata": {
  "kernelspec": {
   "display_name": "Python 3 (ipykernel)",
   "language": "python",
   "name": "python3"
  },
  "language_info": {
   "codemirror_mode": {
    "name": "ipython",
    "version": 3
   },
   "file_extension": ".py",
   "mimetype": "text/x-python",
   "name": "python",
   "nbconvert_exporter": "python",
   "pygments_lexer": "ipython3",
   "version": "3.11.7"
  }
 },
 "nbformat": 4,
 "nbformat_minor": 5
}
